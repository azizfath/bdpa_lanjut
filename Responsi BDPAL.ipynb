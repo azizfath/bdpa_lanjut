{
  "nbformat": 4,
  "nbformat_minor": 0,
  "metadata": {
    "colab": {
      "provenance": [],
      "mount_file_id": "1smCfRraNb1n9BdctP14ggKGHoTe3aPmA",
      "authorship_tag": "ABX9TyMWgcqBajRUq0f+XBlROE4A",
      "include_colab_link": true
    },
    "kernelspec": {
      "name": "python3",
      "display_name": "Python 3"
    },
    "language_info": {
      "name": "python"
    }
  },
  "cells": [
    {
      "cell_type": "markdown",
      "metadata": {
        "id": "view-in-github",
        "colab_type": "text"
      },
      "source": [
        "<a href=\"https://colab.research.google.com/github/azizfath/bdpa_lanjut/blob/master/Responsi%20BDPAL.ipynb\" target=\"_parent\"><img src=\"https://colab.research.google.com/assets/colab-badge.svg\" alt=\"Open In Colab\"/></a>"
      ]
    },
    {
      "cell_type": "markdown",
      "source": [
        "#**RESPONSI BIG DATA PREDICTIVE ANALYTICS LANJUT**\n",
        "##**NAMA: FATHURRAHMAN NUR AZIZ**\n",
        "##**NIM: 20.11.3694**"
      ],
      "metadata": {
        "id": "86fcMhPB2_HB"
      }
    },
    {
      "cell_type": "markdown",
      "source": [
        "##**Klasifikasi dataset Iris dengan Algoritma *Decision Tree Classifier***"
      ],
      "metadata": {
        "id": "LqZkg0IBn5dD"
      }
    },
    {
      "cell_type": "markdown",
      "source": [
        "##1. Persiapan Spark dan Library yang digunakan"
      ],
      "metadata": {
        "id": "4ZR0B18JoaEl"
      }
    },
    {
      "cell_type": "code",
      "source": [
        "#install findspark and pyspark\n",
        "\n",
        "!pip install -q findspark\n",
        "!pip install -q pyspark"
      ],
      "metadata": {
        "id": "e5tfmXnq3RA3"
      },
      "execution_count": 1,
      "outputs": []
    },
    {
      "cell_type": "code",
      "source": [
        "#import library\n",
        "\n",
        "from pyspark.sql import SparkSession\n",
        "from pyspark.sql import SQLContext\n",
        "from pyspark.ml.classification import DecisionTreeClassifier\n",
        "from pyspark.ml.evaluation import MulticlassClassificationEvaluator\n",
        "from pyspark.ml.feature import VectorAssembler\n",
        "from sklearn.metrics import confusion_matrix"
      ],
      "metadata": {
        "id": "ovDDfc09ikoS"
      },
      "execution_count": 2,
      "outputs": []
    },
    {
      "cell_type": "code",
      "source": [
        "#create spark session\n",
        "\n",
        "spark = SparkSession \\\n",
        "  .builder \\\n",
        "  .getOrCreate()"
      ],
      "metadata": {
        "id": "UkdIU68Z3zVj"
      },
      "execution_count": 3,
      "outputs": []
    },
    {
      "cell_type": "code",
      "source": [
        "#create spark context\n",
        "\n",
        "sc = spark.sparkContext"
      ],
      "metadata": {
        "id": "iBvipBki-XYy"
      },
      "execution_count": 4,
      "outputs": []
    },
    {
      "cell_type": "markdown",
      "source": [
        "##2. Import Dataset dan Visualisasi Dataset"
      ],
      "metadata": {
        "id": "dPbpeBCXogrD"
      }
    },
    {
      "cell_type": "code",
      "source": [
        "#import dataset\n",
        "\n",
        "path = '/content/Iris.csv'"
      ],
      "metadata": {
        "id": "6r75ISBu5GJS"
      },
      "execution_count": 5,
      "outputs": []
    },
    {
      "cell_type": "code",
      "source": [
        "#load dataset\n",
        "\n",
        "iris = spark.read.csv(path, header=True, inferSchema=True)"
      ],
      "metadata": {
        "id": "cLbQvvnm5f72"
      },
      "execution_count": 6,
      "outputs": []
    },
    {
      "cell_type": "code",
      "source": [
        "#visualisasi dataset \n",
        "\n",
        "iris.show()"
      ],
      "metadata": {
        "colab": {
          "base_uri": "https://localhost:8080/",
          "height": 0
        },
        "id": "k74da8gX6O4h",
        "outputId": "28a86282-ec4a-441a-cdec-ada90a11aa59"
      },
      "execution_count": 7,
      "outputs": [
        {
          "output_type": "stream",
          "name": "stdout",
          "text": [
            "+---+-------------+------------+-------------+------------+-----------+\n",
            "| Id|SepalLengthCm|SepalWidthCm|PetalLengthCm|PetalWidthCm|    Species|\n",
            "+---+-------------+------------+-------------+------------+-----------+\n",
            "|  1|          5.1|         3.5|          1.4|         0.2|Iris-setosa|\n",
            "|  2|          4.9|         3.0|          1.4|         0.2|Iris-setosa|\n",
            "|  3|          4.7|         3.2|          1.3|         0.2|Iris-setosa|\n",
            "|  4|          4.6|         3.1|          1.5|         0.2|Iris-setosa|\n",
            "|  5|          5.0|         3.6|          1.4|         0.2|Iris-setosa|\n",
            "|  6|          5.4|         3.9|          1.7|         0.4|Iris-setosa|\n",
            "|  7|          4.6|         3.4|          1.4|         0.3|Iris-setosa|\n",
            "|  8|          5.0|         3.4|          1.5|         0.2|Iris-setosa|\n",
            "|  9|          4.4|         2.9|          1.4|         0.2|Iris-setosa|\n",
            "| 10|          4.9|         3.1|          1.5|         0.1|Iris-setosa|\n",
            "| 11|          5.4|         3.7|          1.5|         0.2|Iris-setosa|\n",
            "| 12|          4.8|         3.4|          1.6|         0.2|Iris-setosa|\n",
            "| 13|          4.8|         3.0|          1.4|         0.1|Iris-setosa|\n",
            "| 14|          4.3|         3.0|          1.1|         0.1|Iris-setosa|\n",
            "| 15|          5.8|         4.0|          1.2|         0.2|Iris-setosa|\n",
            "| 16|          5.7|         4.4|          1.5|         0.4|Iris-setosa|\n",
            "| 17|          5.4|         3.9|          1.3|         0.4|Iris-setosa|\n",
            "| 18|          5.1|         3.5|          1.4|         0.3|Iris-setosa|\n",
            "| 19|          5.7|         3.8|          1.7|         0.3|Iris-setosa|\n",
            "| 20|          5.1|         3.8|          1.5|         0.3|Iris-setosa|\n",
            "+---+-------------+------------+-------------+------------+-----------+\n",
            "only showing top 20 rows\n",
            "\n"
          ]
        }
      ]
    },
    {
      "cell_type": "code",
      "source": [
        "#cek tipe data tiap kolom dataset\n",
        "\n",
        "iris.printSchema()"
      ],
      "metadata": {
        "colab": {
          "base_uri": "https://localhost:8080/",
          "height": 0
        },
        "id": "OqENMYRiotDz",
        "outputId": "d74dbf90-fc0b-4607-8b33-8ce95965638a"
      },
      "execution_count": 8,
      "outputs": [
        {
          "output_type": "stream",
          "name": "stdout",
          "text": [
            "root\n",
            " |-- Id: integer (nullable = true)\n",
            " |-- SepalLengthCm: double (nullable = true)\n",
            " |-- SepalWidthCm: double (nullable = true)\n",
            " |-- PetalLengthCm: double (nullable = true)\n",
            " |-- PetalWidthCm: double (nullable = true)\n",
            " |-- Species: string (nullable = true)\n",
            "\n"
          ]
        }
      ]
    },
    {
      "cell_type": "markdown",
      "source": [
        "##3. Menentukan variabel Independent (X / features) dan Variabel Dependent (Y / target)"
      ],
      "metadata": {
        "id": "f2jkh-MZo0nS"
      }
    },
    {
      "cell_type": "markdown",
      "source": [
        "###**Dari data tersebut, maka:**\n",
        "\n",
        "*   variabel independent (X) adalah fitur yaitu : **SepalLengthCm, SepalWidthCm, PetalLengthCm, PetalWidthCm**\n",
        "*   Variabel dependent (y) adalah target yaitu : **Species**, tetapi perlu kita ubah (transform/encoding) menjadi nilai integer dulu\n",
        "\n"
      ],
      "metadata": {
        "id": "vB3UrHGcjmFQ"
      }
    },
    {
      "cell_type": "markdown",
      "source": [
        "##4. Transform Data\n",
        "Mengubah seluruh tipe data string menjadi numerik."
      ],
      "metadata": {
        "id": "Ew3zcbBAo9xS"
      }
    },
    {
      "cell_type": "code",
      "source": [
        "#karena hanya variabel species yang berupa string, maka kita akan lakukan transform pada kolom tersebut\n",
        "\n",
        "#melihat isi unique dari kolom species\n",
        "\n",
        "iris.select('species').distinct().show()"
      ],
      "metadata": {
        "colab": {
          "base_uri": "https://localhost:8080/",
          "height": 0
        },
        "id": "FA5XSg53hm8W",
        "outputId": "bbb44df1-1fe9-4c6e-f807-1affb1c51f1b"
      },
      "execution_count": 9,
      "outputs": [
        {
          "output_type": "stream",
          "name": "stdout",
          "text": [
            "+---------------+\n",
            "|        species|\n",
            "+---------------+\n",
            "| Iris-virginica|\n",
            "|    Iris-setosa|\n",
            "|Iris-versicolor|\n",
            "+---------------+\n",
            "\n"
          ]
        }
      ]
    },
    {
      "cell_type": "code",
      "source": [
        "#transform kolom species ke integer\n",
        "\n",
        "from pyspark.sql.functions import when\n",
        "\n",
        "iris = iris.withColumn('species_int', when(iris['species'] == 'Iris-virginica',0.0) \\\n",
        "                       .otherwise(when(iris['species'] == 'Iris-setosa',1.0) \\\n",
        "                       .otherwise(when(iris['species'] == 'Iris-versicolor',2.0))))"
      ],
      "metadata": {
        "id": "MQ3KwvT6hw8k"
      },
      "execution_count": 10,
      "outputs": []
    },
    {
      "cell_type": "code",
      "source": [
        "#melihat hasil transform dengan mencari nilai unique dari kolom baru \"species_int\"\n",
        "\n",
        "iris.select('species_int').distinct().show()"
      ],
      "metadata": {
        "colab": {
          "base_uri": "https://localhost:8080/",
          "height": 0
        },
        "id": "65Growoxh4Nh",
        "outputId": "636364e4-f608-4ff4-8dcd-aac0cdb78322"
      },
      "execution_count": 11,
      "outputs": [
        {
          "output_type": "stream",
          "name": "stdout",
          "text": [
            "+-----------+\n",
            "|species_int|\n",
            "+-----------+\n",
            "|        0.0|\n",
            "|        1.0|\n",
            "|        2.0|\n",
            "+-----------+\n",
            "\n"
          ]
        }
      ]
    },
    {
      "cell_type": "code",
      "source": [
        "#menampilkan dataframe yang telah ditambahkan kolom baru species_int\n",
        "\n",
        "iris.show()"
      ],
      "metadata": {
        "colab": {
          "base_uri": "https://localhost:8080/",
          "height": 0
        },
        "id": "TxfZ7khqj7bi",
        "outputId": "e6f67eae-60da-40b7-ccf2-769722773260"
      },
      "execution_count": 12,
      "outputs": [
        {
          "output_type": "stream",
          "name": "stdout",
          "text": [
            "+---+-------------+------------+-------------+------------+-----------+-----------+\n",
            "| Id|SepalLengthCm|SepalWidthCm|PetalLengthCm|PetalWidthCm|    Species|species_int|\n",
            "+---+-------------+------------+-------------+------------+-----------+-----------+\n",
            "|  1|          5.1|         3.5|          1.4|         0.2|Iris-setosa|        1.0|\n",
            "|  2|          4.9|         3.0|          1.4|         0.2|Iris-setosa|        1.0|\n",
            "|  3|          4.7|         3.2|          1.3|         0.2|Iris-setosa|        1.0|\n",
            "|  4|          4.6|         3.1|          1.5|         0.2|Iris-setosa|        1.0|\n",
            "|  5|          5.0|         3.6|          1.4|         0.2|Iris-setosa|        1.0|\n",
            "|  6|          5.4|         3.9|          1.7|         0.4|Iris-setosa|        1.0|\n",
            "|  7|          4.6|         3.4|          1.4|         0.3|Iris-setosa|        1.0|\n",
            "|  8|          5.0|         3.4|          1.5|         0.2|Iris-setosa|        1.0|\n",
            "|  9|          4.4|         2.9|          1.4|         0.2|Iris-setosa|        1.0|\n",
            "| 10|          4.9|         3.1|          1.5|         0.1|Iris-setosa|        1.0|\n",
            "| 11|          5.4|         3.7|          1.5|         0.2|Iris-setosa|        1.0|\n",
            "| 12|          4.8|         3.4|          1.6|         0.2|Iris-setosa|        1.0|\n",
            "| 13|          4.8|         3.0|          1.4|         0.1|Iris-setosa|        1.0|\n",
            "| 14|          4.3|         3.0|          1.1|         0.1|Iris-setosa|        1.0|\n",
            "| 15|          5.8|         4.0|          1.2|         0.2|Iris-setosa|        1.0|\n",
            "| 16|          5.7|         4.4|          1.5|         0.4|Iris-setosa|        1.0|\n",
            "| 17|          5.4|         3.9|          1.3|         0.4|Iris-setosa|        1.0|\n",
            "| 18|          5.1|         3.5|          1.4|         0.3|Iris-setosa|        1.0|\n",
            "| 19|          5.7|         3.8|          1.7|         0.3|Iris-setosa|        1.0|\n",
            "| 20|          5.1|         3.8|          1.5|         0.3|Iris-setosa|        1.0|\n",
            "+---+-------------+------------+-------------+------------+-----------+-----------+\n",
            "only showing top 20 rows\n",
            "\n"
          ]
        }
      ]
    },
    {
      "cell_type": "code",
      "source": [
        "#cek tipe data tiap kolom dataframe yang telah ditambahkan kolom baru species_int\n",
        "\n",
        "iris.printSchema()"
      ],
      "metadata": {
        "colab": {
          "base_uri": "https://localhost:8080/",
          "height": 0
        },
        "id": "7fZGG6aOiJyh",
        "outputId": "c9444463-3d5e-4b3e-b9f6-78812efbc443"
      },
      "execution_count": 13,
      "outputs": [
        {
          "output_type": "stream",
          "name": "stdout",
          "text": [
            "root\n",
            " |-- Id: integer (nullable = true)\n",
            " |-- SepalLengthCm: double (nullable = true)\n",
            " |-- SepalWidthCm: double (nullable = true)\n",
            " |-- PetalLengthCm: double (nullable = true)\n",
            " |-- PetalWidthCm: double (nullable = true)\n",
            " |-- Species: string (nullable = true)\n",
            " |-- species_int: double (nullable = true)\n",
            "\n"
          ]
        }
      ]
    },
    {
      "cell_type": "markdown",
      "source": [
        "###Mengkombinasikan semua fitur menjadi satu kolom"
      ],
      "metadata": {
        "id": "Ug5geTooplM6"
      }
    },
    {
      "cell_type": "code",
      "source": [
        "#memilih fitur dependent (X) yaitu 'SepalLengthCm', 'SepalWidthCm', 'PetalLengthCm','PetalWidthCm'\n",
        "\n",
        "kolom = ['SepalLengthCm', 'SepalWidthCm', 'PetalLengthCm','PetalWidthCm']\n",
        "fixed_df = VectorAssembler(inputCols = kolom, outputCol='features')\n",
        "\n",
        "fixed_df = fixed_df.transform(iris)\n",
        "fixed_df = fixed_df.select(['features', 'species_int'])\n",
        "fixed_df.show()"
      ],
      "metadata": {
        "colab": {
          "base_uri": "https://localhost:8080/",
          "height": 0
        },
        "id": "BGA05IeTip0t",
        "outputId": "8a2cb9c8-380c-457a-b864-2087ea41dff6"
      },
      "execution_count": 14,
      "outputs": [
        {
          "output_type": "stream",
          "name": "stdout",
          "text": [
            "+-----------------+-----------+\n",
            "|         features|species_int|\n",
            "+-----------------+-----------+\n",
            "|[5.1,3.5,1.4,0.2]|        1.0|\n",
            "|[4.9,3.0,1.4,0.2]|        1.0|\n",
            "|[4.7,3.2,1.3,0.2]|        1.0|\n",
            "|[4.6,3.1,1.5,0.2]|        1.0|\n",
            "|[5.0,3.6,1.4,0.2]|        1.0|\n",
            "|[5.4,3.9,1.7,0.4]|        1.0|\n",
            "|[4.6,3.4,1.4,0.3]|        1.0|\n",
            "|[5.0,3.4,1.5,0.2]|        1.0|\n",
            "|[4.4,2.9,1.4,0.2]|        1.0|\n",
            "|[4.9,3.1,1.5,0.1]|        1.0|\n",
            "|[5.4,3.7,1.5,0.2]|        1.0|\n",
            "|[4.8,3.4,1.6,0.2]|        1.0|\n",
            "|[4.8,3.0,1.4,0.1]|        1.0|\n",
            "|[4.3,3.0,1.1,0.1]|        1.0|\n",
            "|[5.8,4.0,1.2,0.2]|        1.0|\n",
            "|[5.7,4.4,1.5,0.4]|        1.0|\n",
            "|[5.4,3.9,1.3,0.4]|        1.0|\n",
            "|[5.1,3.5,1.4,0.3]|        1.0|\n",
            "|[5.7,3.8,1.7,0.3]|        1.0|\n",
            "|[5.1,3.8,1.5,0.3]|        1.0|\n",
            "+-----------------+-----------+\n",
            "only showing top 20 rows\n",
            "\n"
          ]
        }
      ]
    },
    {
      "cell_type": "markdown",
      "source": [
        "##5. Split Data Train dan Data Test"
      ],
      "metadata": {
        "id": "2JNvtxlup0Iq"
      }
    },
    {
      "cell_type": "code",
      "source": [
        "#split dataset dengan komposisi data train = 0.75 dan data test = 0.25\n",
        "\n",
        "(data_train, data_test) = fixed_df.randomSplit([0.75, 0.25])"
      ],
      "metadata": {
        "id": "hcCKPqbvjV4y"
      },
      "execution_count": 15,
      "outputs": []
    },
    {
      "cell_type": "markdown",
      "source": [
        "##6. Membuat Model Klasifikasi"
      ],
      "metadata": {
        "id": "S3DdQhYnp9ZU"
      }
    },
    {
      "cell_type": "code",
      "source": [
        "#membuat model Decission Tree Classifier\n",
        "\n",
        "dtc = DecisionTreeClassifier(featuresCol=\"features\", labelCol=\"species_int\")"
      ],
      "metadata": {
        "id": "idZ1EYDGkUni"
      },
      "execution_count": 16,
      "outputs": []
    },
    {
      "cell_type": "markdown",
      "source": [
        "##7. Training Algoritma"
      ],
      "metadata": {
        "id": "vPeb27SnqGSD"
      }
    },
    {
      "cell_type": "code",
      "source": [
        "#melakukan training berdasar model yang sudah dibuat\n",
        "\n",
        "dtc = dtc.fit(data_train)"
      ],
      "metadata": {
        "id": "UH7w08NhqJ5V"
      },
      "execution_count": 17,
      "outputs": []
    },
    {
      "cell_type": "markdown",
      "source": [
        "##8. Melakukan Prediksi"
      ],
      "metadata": {
        "id": "eBXViMRRqP0R"
      }
    },
    {
      "cell_type": "code",
      "source": [
        "#mencoba prediksi\n",
        "\n",
        "pred = dtc.transform(data_test)\n",
        "pred.show(10)"
      ],
      "metadata": {
        "colab": {
          "base_uri": "https://localhost:8080/",
          "height": 0
        },
        "id": "mRw2L_jOklch",
        "outputId": "917b9466-349c-41d5-e6c7-10eb767e7b8d"
      },
      "execution_count": 18,
      "outputs": [
        {
          "output_type": "stream",
          "name": "stdout",
          "text": [
            "+-----------------+-----------+--------------+-------------+----------+\n",
            "|         features|species_int| rawPrediction|  probability|prediction|\n",
            "+-----------------+-----------+--------------+-------------+----------+\n",
            "|[4.4,2.9,1.4,0.2]|        1.0|[0.0,37.0,0.0]|[0.0,1.0,0.0]|       1.0|\n",
            "|[4.6,3.1,1.5,0.2]|        1.0|[0.0,37.0,0.0]|[0.0,1.0,0.0]|       1.0|\n",
            "|[4.6,3.2,1.4,0.2]|        1.0|[0.0,37.0,0.0]|[0.0,1.0,0.0]|       1.0|\n",
            "|[4.6,3.6,1.0,0.2]|        1.0|[0.0,37.0,0.0]|[0.0,1.0,0.0]|       1.0|\n",
            "|[4.8,3.4,1.6,0.2]|        1.0|[0.0,37.0,0.0]|[0.0,1.0,0.0]|       1.0|\n",
            "|[4.9,2.4,3.3,1.0]|        2.0|[0.0,0.0,37.0]|[0.0,0.0,1.0]|       2.0|\n",
            "|[5.0,3.0,1.6,0.2]|        1.0|[0.0,37.0,0.0]|[0.0,1.0,0.0]|       1.0|\n",
            "|[5.0,3.2,1.2,0.2]|        1.0|[0.0,37.0,0.0]|[0.0,1.0,0.0]|       1.0|\n",
            "|[5.0,3.5,1.3,0.3]|        1.0|[0.0,37.0,0.0]|[0.0,1.0,0.0]|       1.0|\n",
            "|[5.2,2.7,3.9,1.4]|        2.0|[0.0,0.0,37.0]|[0.0,0.0,1.0]|       2.0|\n",
            "+-----------------+-----------+--------------+-------------+----------+\n",
            "only showing top 10 rows\n",
            "\n"
          ]
        }
      ]
    },
    {
      "cell_type": "markdown",
      "source": [
        "##9. Evaluasi Model"
      ],
      "metadata": {
        "id": "s5uhzu1rqYiZ"
      }
    },
    {
      "cell_type": "code",
      "source": [
        "#menampilkan Prediction Accuracy dari model yang telah dibuat\n",
        "\n",
        "evaluator = MulticlassClassificationEvaluator(predictionCol=\"prediction\",labelCol='species_int')\n",
        "accuracy = evaluator.evaluate(pred)\n",
        "print(\"Prediction Accuracy: \", str(accuracy))"
      ],
      "metadata": {
        "colab": {
          "base_uri": "https://localhost:8080/",
          "height": 0
        },
        "id": "YKCxblRYktw6",
        "outputId": "b8b712a1-6191-451e-c18e-f2d2b5289960"
      },
      "execution_count": 19,
      "outputs": [
        {
          "output_type": "stream",
          "name": "stdout",
          "text": [
            "Prediction Accuracy:  0.9721164021164022\n"
          ]
        }
      ]
    },
    {
      "cell_type": "code",
      "source": [
        "#Menampilkan Confussion Matrix\n",
        "\n",
        "y_pred=pred.select(\"prediction\").collect()\n",
        "y_orig=pred.select(\"species_int\").collect()\n",
        "cm = confusion_matrix(y_orig, y_pred)\n",
        "print(\"Confusion Matrix:\")\n",
        "print(cm)"
      ],
      "metadata": {
        "colab": {
          "base_uri": "https://localhost:8080/",
          "height": 0
        },
        "id": "3z-fqXlYlSil",
        "outputId": "e2e57ff2-610b-4fc5-c2dd-62e6bc4d4557"
      },
      "execution_count": 20,
      "outputs": [
        {
          "output_type": "stream",
          "name": "stdout",
          "text": [
            "Confusion Matrix:\n",
            "[[12  0  0]\n",
            " [ 0 13  0]\n",
            " [ 1  0 10]]\n"
          ]
        }
      ]
    },
    {
      "cell_type": "markdown",
      "source": [
        "**Interpretasi Hasil Evaluasi:** \n",
        "\n",
        "* Hasil klasifikasi termasuk bagus karena prediksi mencapai : 0.9721164021164022\n",
        "* Dari Confusion Matrix, dapat disimpulkan klasifikasi termasuk bagus karena hanya menghasilkan 1 nilai false, sedangkan hasil true nya sebanyak 12+13+10 = 35"
      ],
      "metadata": {
        "id": "37yhfpqisW9w"
      }
    }
  ]
}