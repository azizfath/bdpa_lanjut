{
  "nbformat": 4,
  "nbformat_minor": 0,
  "metadata": {
    "colab": {
      "provenance": [],
      "mount_file_id": "1fGsr6yL6UA-ElYDzTWljpL-J0sDAGAq1",
      "authorship_tag": "ABX9TyNL6Ta5m8XKpiZ9Z/YSwgsy",
      "include_colab_link": true
    },
    "kernelspec": {
      "name": "python3",
      "display_name": "Python 3"
    },
    "language_info": {
      "name": "python"
    }
  },
  "cells": [
    {
      "cell_type": "markdown",
      "metadata": {
        "id": "view-in-github",
        "colab_type": "text"
      },
      "source": [
        "<a href=\"https://colab.research.google.com/github/azizfath/bdpa_lanjut/blob/master/Final_Project_Big_Data_Lanjut.ipynb\" target=\"_parent\"><img src=\"https://colab.research.google.com/assets/colab-badge.svg\" alt=\"Open In Colab\"/></a>"
      ]
    },
    {
      "cell_type": "markdown",
      "source": [
        "##**Email Spam Classification with TF-IDF Algorithm and Naive Bayes Classfication using Pyspark**\n",
        "\n",
        "###Members of the group:\n",
        "\n",
        "\n",
        "* FATHURRAHMAN NUR AZIZ (20.11.3694)\n",
        "* MUHAMMAD BASTIAN HANAFI (20.11.3714)\n",
        "* MIFTAHUDIN FAIZ         (20.11.3675)\n",
        "\n"
      ],
      "metadata": {
        "id": "8NTWnQB-gqq0"
      }
    },
    {
      "cell_type": "markdown",
      "source": [
        "##1. Import Library and Modules"
      ],
      "metadata": {
        "id": "sibAGu6MiEhk"
      }
    },
    {
      "cell_type": "code",
      "source": [
        "#installing findspark and pyspark\n",
        "!pip install -q findspark\n",
        "!pip install -q pyspark"
      ],
      "metadata": {
        "id": "82lDTqHQlK4V"
      },
      "execution_count": 1,
      "outputs": []
    },
    {
      "cell_type": "code",
      "source": [
        "import pandas as pd\n",
        "from pyspark.sql import SparkSession\n",
        "\n",
        "#preprocessing lib\n",
        "from pyspark.sql.functions import length,split,when,regexp_replace,col,trim,lower\n",
        "\n",
        "#TF-IDF lib\n",
        "from pyspark.ml.feature import Tokenizer, StopWordsRemover, CountVectorizer, IDF, StringIndexer, VectorAssembler\n",
        "from pyspark.ml.linalg import Vector\n",
        "\n",
        "#Naive Bayes\n",
        "from pyspark.ml.classification import NaiveBayes\n",
        "from pyspark.ml import Pipeline\n",
        "\n",
        "#model evaluation lib\n",
        "import matplotlib.pyplot as plt\n",
        "from pyspark.ml.evaluation import MulticlassClassificationEvaluator\n",
        "from sklearn.metrics import confusion_matrix, ConfusionMatrixDisplay"
      ],
      "metadata": {
        "id": "2uIczXvjlOJC"
      },
      "execution_count": 2,
      "outputs": []
    },
    {
      "cell_type": "code",
      "source": [
        "#creating spark session\n",
        "spark = SparkSession.builder.appName('final project').getOrCreate()"
      ],
      "metadata": {
        "id": "zxsbd2NroMkr"
      },
      "execution_count": 3,
      "outputs": []
    },
    {
      "cell_type": "markdown",
      "source": [
        "##2. Load Dataset"
      ],
      "metadata": {
        "id": "g6YG4AWUmSj7"
      }
    },
    {
      "cell_type": "code",
      "source": [
        "#DATASET 1 : https://www.kaggle.com/datasets/studymart/spam-email-detection-dataset\n",
        "#DATASET 2 : https://www.kaggle.com/datasets/nitishabharathi/email-spam-dataset\n",
        "#DATASET 3 : https://www.kaggle.com/datasets/juanagsolano/spam-email-from-enron-dataset\n",
        "#DATASET 4 : https://www.kaggle.com/datasets/abhishek14398/sms-spam-collection\n",
        "\n",
        "path1 = '/content/drive/MyDrive/Colab Notebooks/BDPA LANJUT/FP/emails.csv'\n",
        "path2 = '/content/drive/MyDrive/Colab Notebooks/BDPA LANJUT/FP/labeled_emails.csv'\n",
        "path3 = '/content/drive/MyDrive/Colab Notebooks/BDPA LANJUT/FP/completeSpamAssassin.csv'\n",
        "path4 = '/content/drive/MyDrive/Colab Notebooks/BDPA LANJUT/FP/SMSSpamCollection.csv'"
      ],
      "metadata": {
        "id": "1OLL4_9fmU0C"
      },
      "execution_count": 4,
      "outputs": []
    },
    {
      "cell_type": "code",
      "source": [
        "#read csv for dataset 1 with spark\n",
        "df1 = spark.read.csv(path1, header=True, inferSchema=True)\n",
        "\n",
        "#read csv for dataset 2 with pandas then converted to spark\n",
        "df2 = pd.read_csv(path2).astype(str)\n",
        "df2 = spark.createDataFrame(df2)\n",
        "\n",
        "#read csv for dataset 3 with pandas then converted to spark\n",
        "df3 = pd.read_csv(path3).astype(str)\n",
        "df3 = spark.createDataFrame(df3)\n",
        "\n",
        "#read csv for dataset 4 with spark\n",
        "df4 = spark.read.csv(path4)"
      ],
      "metadata": {
        "id": "kGt-2dmsnj36"
      },
      "execution_count": 5,
      "outputs": []
    },
    {
      "cell_type": "markdown",
      "source": [
        "##3. Data Preprocessing"
      ],
      "metadata": {
        "id": "7XU2GKsWqh_t"
      }
    },
    {
      "cell_type": "markdown",
      "source": [
        "#### Dataset 1\n"
      ],
      "metadata": {
        "id": "oQEHJos5qknp"
      }
    },
    {
      "cell_type": "code",
      "source": [
        "#visualize df1\n",
        "df1.show(5)"
      ],
      "metadata": {
        "colab": {
          "base_uri": "https://localhost:8080/"
        },
        "id": "y_kr3C1EBQjD",
        "outputId": "4dd74e83-e7db-4ab7-b7af-4596c1bcde43"
      },
      "execution_count": 6,
      "outputs": [
        {
          "output_type": "stream",
          "name": "stdout",
          "text": [
            "+--------------------+----+----+----+----+----+----+----+----+----+----+----+----+----+----+----+----+----+----+----+----+----+----+----+----+----+----+----+----+----+----+----+----+----+----+----+----+----+----+----+----+----+----+----+----+----+----+----+----+----+----+----+----+----+----+----+----+----+----+----+----+----+----+----+----+----+----+----+----+----+----+----+----+----+----+----+----+----+----+----+----+----+----+----+----+----+----+----+----+----+----+----+----+----+----+----+----+----+----+----+-----+-----+-----+-----+-----+-----+-----+-----+-----+-----+\n",
            "|                text|spam| _c2| _c3| _c4| _c5| _c6| _c7| _c8| _c9|_c10|_c11|_c12|_c13|_c14|_c15|_c16|_c17|_c18|_c19|_c20|_c21|_c22|_c23|_c24|_c25|_c26|_c27|_c28|_c29|_c30|_c31|_c32|_c33|_c34|_c35|_c36|_c37|_c38|_c39|_c40|_c41|_c42|_c43|_c44|_c45|_c46|_c47|_c48|_c49|_c50|_c51|_c52|_c53|_c54|_c55|_c56|_c57|_c58|_c59|_c60|_c61|_c62|_c63|_c64|_c65|_c66|_c67|_c68|_c69|_c70|_c71|_c72|_c73|_c74|_c75|_c76|_c77|_c78|_c79|_c80|_c81|_c82|_c83|_c84|_c85|_c86|_c87|_c88|_c89|_c90|_c91|_c92|_c93|_c94|_c95|_c96|_c97|_c98|_c99|_c100|_c101|_c102|_c103|_c104|_c105|_c106|_c107|_c108|_c109|\n",
            "+--------------------+----+----+----+----+----+----+----+----+----+----+----+----+----+----+----+----+----+----+----+----+----+----+----+----+----+----+----+----+----+----+----+----+----+----+----+----+----+----+----+----+----+----+----+----+----+----+----+----+----+----+----+----+----+----+----+----+----+----+----+----+----+----+----+----+----+----+----+----+----+----+----+----+----+----+----+----+----+----+----+----+----+----+----+----+----+----+----+----+----+----+----+----+----+----+----+----+----+----+----+-----+-----+-----+-----+-----+-----+-----+-----+-----+-----+\n",
            "|Subject: naturall...|   1|null|null|null|null|null|null|null|null|null|null|null|null|null|null|null|null|null|null|null|null|null|null|null|null|null|null|null|null|null|null|null|null|null|null|null|null|null|null|null|null|null|null|null|null|null|null|null|null|null|null|null|null|null|null|null|null|null|null|null|null|null|null|null|null|null|null|null|null|null|null|null|null|null|null|null|null|null|null|null|null|null|null|null|null|null|null|null|null|null|null|null|null|null|null|null|null|null|null| null| null| null| null| null| null| null| null| null| null|\n",
            "|Subject: the stoc...|   1|null|null|null|null|null|null|null|null|null|null|null|null|null|null|null|null|null|null|null|null|null|null|null|null|null|null|null|null|null|null|null|null|null|null|null|null|null|null|null|null|null|null|null|null|null|null|null|null|null|null|null|null|null|null|null|null|null|null|null|null|null|null|null|null|null|null|null|null|null|null|null|null|null|null|null|null|null|null|null|null|null|null|null|null|null|null|null|null|null|null|null|null|null|null|null|null|null|null| null| null| null| null| null| null| null| null| null| null|\n",
            "|Subject: unbeliev...|   1|null|null|null|null|null|null|null|null|null|null|null|null|null|null|null|null|null|null|null|null|null|null|null|null|null|null|null|null|null|null|null|null|null|null|null|null|null|null|null|null|null|null|null|null|null|null|null|null|null|null|null|null|null|null|null|null|null|null|null|null|null|null|null|null|null|null|null|null|null|null|null|null|null|null|null|null|null|null|null|null|null|null|null|null|null|null|null|null|null|null|null|null|null|null|null|null|null|null| null| null| null| null| null| null| null| null| null| null|\n",
            "|Subject: 4 color ...|   1|null|null|null|null|null|null|null|null|null|null|null|null|null|null|null|null|null|null|null|null|null|null|null|null|null|null|null|null|null|null|null|null|null|null|null|null|null|null|null|null|null|null|null|null|null|null|null|null|null|null|null|null|null|null|null|null|null|null|null|null|null|null|null|null|null|null|null|null|null|null|null|null|null|null|null|null|null|null|null|null|null|null|null|null|null|null|null|null|null|null|null|null|null|null|null|null|null|null| null| null| null| null| null| null| null| null| null| null|\n",
            "|Subject: do not h...|   1|null|null|null|null|null|null|null|null|null|null|null|null|null|null|null|null|null|null|null|null|null|null|null|null|null|null|null|null|null|null|null|null|null|null|null|null|null|null|null|null|null|null|null|null|null|null|null|null|null|null|null|null|null|null|null|null|null|null|null|null|null|null|null|null|null|null|null|null|null|null|null|null|null|null|null|null|null|null|null|null|null|null|null|null|null|null|null|null|null|null|null|null|null|null|null|null|null|null| null| null| null| null| null| null| null| null| null| null|\n",
            "+--------------------+----+----+----+----+----+----+----+----+----+----+----+----+----+----+----+----+----+----+----+----+----+----+----+----+----+----+----+----+----+----+----+----+----+----+----+----+----+----+----+----+----+----+----+----+----+----+----+----+----+----+----+----+----+----+----+----+----+----+----+----+----+----+----+----+----+----+----+----+----+----+----+----+----+----+----+----+----+----+----+----+----+----+----+----+----+----+----+----+----+----+----+----+----+----+----+----+----+----+----+-----+-----+-----+-----+-----+-----+-----+-----+-----+-----+\n",
            "only showing top 5 rows\n",
            "\n"
          ]
        }
      ]
    },
    {
      "cell_type": "code",
      "source": [
        "#selecting column and removing the word \"Subject: \" and \"re : \" that not usable\n",
        "df1 = df1.select(regexp_replace(df1['text'], 'Subject: ', '').alias('text'),'spam')\n",
        "df1 = df1.select(regexp_replace(df1['text'], 're : ', '').alias('text'),'spam')\n",
        "\n",
        "#visualize df1 after clearing data\n",
        "df1.show(5)\n",
        "\n",
        "#print schema of df1\n",
        "df1.printSchema()"
      ],
      "metadata": {
        "colab": {
          "base_uri": "https://localhost:8080/"
        },
        "id": "Mv4MPp2WDc4w",
        "outputId": "a1ac9a60-399d-4e17-f17c-d44c33790f78"
      },
      "execution_count": 7,
      "outputs": [
        {
          "output_type": "stream",
          "name": "stdout",
          "text": [
            "+--------------------+----+\n",
            "|                text|spam|\n",
            "+--------------------+----+\n",
            "|naturally irresis...|   1|\n",
            "|the stock trading...|   1|\n",
            "|unbelievable new ...|   1|\n",
            "|4 color printing ...|   1|\n",
            "|do not have money...|   1|\n",
            "+--------------------+----+\n",
            "only showing top 5 rows\n",
            "\n",
            "root\n",
            " |-- text: string (nullable = true)\n",
            " |-- spam: string (nullable = true)\n",
            "\n"
          ]
        }
      ]
    },
    {
      "cell_type": "code",
      "source": [
        "#converting \"spam\" column to integer\n",
        "df1 = df1.withColumn('spam', when(df1['spam'] == '0',0) \\\n",
        "                             .otherwise(when(df1['spam'] == '1',1)))\n",
        "\n",
        "#print schema of df1\n",
        "df1.printSchema()"
      ],
      "metadata": {
        "colab": {
          "base_uri": "https://localhost:8080/"
        },
        "id": "xz8kpCFbDOLy",
        "outputId": "de918262-f967-4112-b08c-88b554dafea6"
      },
      "execution_count": 8,
      "outputs": [
        {
          "output_type": "stream",
          "name": "stdout",
          "text": [
            "root\n",
            " |-- text: string (nullable = true)\n",
            " |-- spam: integer (nullable = true)\n",
            "\n"
          ]
        }
      ]
    },
    {
      "cell_type": "code",
      "source": [
        "#count null values from dataframe\n",
        "print(\"Null Count from Text: \", df1.filter(col(\"text\").isNull()).count())\n",
        "print(\"Null Count from Spam: \", df1.filter(col(\"spam\").isNull()).count())"
      ],
      "metadata": {
        "colab": {
          "base_uri": "https://localhost:8080/"
        },
        "id": "rXe4rmziC-WK",
        "outputId": "82c4de5f-efa6-48e3-d613-ca286ab514a1"
      },
      "execution_count": 9,
      "outputs": [
        {
          "output_type": "stream",
          "name": "stdout",
          "text": [
            "Null Count from Text:  0\n",
            "Null Count from Spam:  1536\n"
          ]
        }
      ]
    },
    {
      "cell_type": "code",
      "source": [
        "#drop the row that contain null value\n",
        "df1 = df1.na.drop()\n",
        "\n",
        "#count null values from dataframe\n",
        "print(\"Null Count from Text: \", df1.filter(col(\"text\").isNull()).count())\n",
        "print(\"Null Count from Spam: \", df1.filter(col(\"spam\").isNull()).count())"
      ],
      "metadata": {
        "colab": {
          "base_uri": "https://localhost:8080/"
        },
        "id": "rudrRZAvDwwu",
        "outputId": "e2e5a344-20a7-43da-c340-3970ce9190fb"
      },
      "execution_count": 10,
      "outputs": [
        {
          "output_type": "stream",
          "name": "stdout",
          "text": [
            "Null Count from Text:  0\n",
            "Null Count from Spam:  0\n"
          ]
        }
      ]
    },
    {
      "cell_type": "code",
      "source": [
        "#visualize df1 after all kind of preprocessing\n",
        "df1.show(5)"
      ],
      "metadata": {
        "colab": {
          "base_uri": "https://localhost:8080/"
        },
        "id": "nrGpuZxDELD9",
        "outputId": "caead21e-48cd-4940-f4f6-4bfb41e8e455"
      },
      "execution_count": 11,
      "outputs": [
        {
          "output_type": "stream",
          "name": "stdout",
          "text": [
            "+--------------------+----+\n",
            "|                text|spam|\n",
            "+--------------------+----+\n",
            "|naturally irresis...|   1|\n",
            "|the stock trading...|   1|\n",
            "|unbelievable new ...|   1|\n",
            "|4 color printing ...|   1|\n",
            "|do not have money...|   1|\n",
            "+--------------------+----+\n",
            "only showing top 5 rows\n",
            "\n"
          ]
        }
      ]
    },
    {
      "cell_type": "markdown",
      "source": [
        "#### Dataset 2\n"
      ],
      "metadata": {
        "id": "lGcrwQZAqwH2"
      }
    },
    {
      "cell_type": "code",
      "source": [
        "#visualize df2\n",
        "df2.show(5)\n",
        "\n",
        "#print schema of df2\n",
        "df2.printSchema()"
      ],
      "metadata": {
        "colab": {
          "base_uri": "https://localhost:8080/"
        },
        "id": "tWLC9qTcAcb8",
        "outputId": "0eb41419-4bba-46ba-d34b-d3bd283560de"
      },
      "execution_count": 12,
      "outputs": [
        {
          "output_type": "stream",
          "name": "stdout",
          "text": [
            "+--------------------+-----+\n",
            "|               email|label|\n",
            "+--------------------+-----+\n",
            "|Subject: re : ran...|  ham|\n",
            "|Subject: re : vis...|  ham|\n",
            "|Subject: research...|  ham|\n",
            "|Subject: christma...|  ham|\n",
            "|Subject: japan ca...|  ham|\n",
            "+--------------------+-----+\n",
            "only showing top 5 rows\n",
            "\n",
            "root\n",
            " |-- email: string (nullable = true)\n",
            " |-- label: string (nullable = true)\n",
            "\n"
          ]
        }
      ]
    },
    {
      "cell_type": "code",
      "source": [
        "#remove some endline and indent character from \"email\" and convert \"label\" to integer\n",
        "df2 = df2.withColumn('text', regexp_replace(df2['email'], '[\\n\\t]', ''))\\\n",
        "         .withColumn('spam', when(df2['label'] == 'ham',0 ) \\\n",
        "                             .otherwise(when(df2['label'] == 'spam', 1))) \\\n",
        "         .drop('email','label')\n",
        "\n",
        "#print schema of df2\n",
        "df2.printSchema()"
      ],
      "metadata": {
        "colab": {
          "base_uri": "https://localhost:8080/"
        },
        "id": "2V4rznLO1Xb8",
        "outputId": "2c44fba2-8494-40fe-9170-4cd88749e47d"
      },
      "execution_count": 13,
      "outputs": [
        {
          "output_type": "stream",
          "name": "stdout",
          "text": [
            "root\n",
            " |-- text: string (nullable = true)\n",
            " |-- spam: integer (nullable = true)\n",
            "\n"
          ]
        }
      ]
    },
    {
      "cell_type": "code",
      "source": [
        "#removing the word \"Subject: \" and \"re : \" that not usable\n",
        "df2 = df2.select(regexp_replace(df2['text'], 'Subject: ', '').alias('text'),'spam')\n",
        "df2 = df2.select(regexp_replace(df2['text'], 're : ', '').alias('text'),'spam')"
      ],
      "metadata": {
        "id": "WhiDd20L_trc"
      },
      "execution_count": 14,
      "outputs": []
    },
    {
      "cell_type": "code",
      "source": [
        "#count null values from dataframe\n",
        "print(\"Null Count from Text: \", df2.filter(col(\"text\").isNull()).count())\n",
        "print(\"Null Count from Spam: \", df2.filter(col(\"spam\").isNull()).count())"
      ],
      "metadata": {
        "colab": {
          "base_uri": "https://localhost:8080/"
        },
        "id": "ROBNiQNwMMsg",
        "outputId": "58f140ea-77ce-475b-c243-a392dda69928"
      },
      "execution_count": 15,
      "outputs": [
        {
          "output_type": "stream",
          "name": "stdout",
          "text": [
            "Null Count from Text:  0\n",
            "Null Count from Spam:  0\n"
          ]
        }
      ]
    },
    {
      "cell_type": "code",
      "source": [
        "#visualize df2 after all kind of preprocessing\n",
        "df2.show(5)"
      ],
      "metadata": {
        "colab": {
          "base_uri": "https://localhost:8080/"
        },
        "id": "2NcUX_-AMJjP",
        "outputId": "2a71e36a-bef4-46ce-f7d5-141947d60092"
      },
      "execution_count": 16,
      "outputs": [
        {
          "output_type": "stream",
          "name": "stdout",
          "text": [
            "+--------------------+----+\n",
            "|                text|spam|\n",
            "+--------------------+----+\n",
            "| rankingsthank you .|   0|\n",
            "|visit to enronvin...|   0|\n",
            "|research group mo...|   0|\n",
            "|christmas baskets...|   0|\n",
            "|japan candidatevi...|   0|\n",
            "+--------------------+----+\n",
            "only showing top 5 rows\n",
            "\n"
          ]
        }
      ]
    },
    {
      "cell_type": "markdown",
      "source": [
        "#### Dataset 3\n"
      ],
      "metadata": {
        "id": "udbpA6FWqwQj"
      }
    },
    {
      "cell_type": "code",
      "source": [
        "#visualize df3\n",
        "df3.show(5)\n",
        "\n",
        "#print schema of df3\n",
        "df3.printSchema()"
      ],
      "metadata": {
        "colab": {
          "base_uri": "https://localhost:8080/"
        },
        "id": "vVr6OCZly45A",
        "outputId": "3e394981-0969-4f65-a5d4-c3fd5b0ec946"
      },
      "execution_count": 17,
      "outputs": [
        {
          "output_type": "stream",
          "name": "stdout",
          "text": [
            "+----------+--------------------+-----+\n",
            "|Unnamed: 0|                Body|Label|\n",
            "+----------+--------------------+-----+\n",
            "|         0|\\nSave up to 70% ...|    1|\n",
            "|         1|1) Fight The Risk...|    1|\n",
            "|         2|1) Fight The Risk...|    1|\n",
            "|         3|#################...|    1|\n",
            "|         4|I thought you mig...|    1|\n",
            "+----------+--------------------+-----+\n",
            "only showing top 5 rows\n",
            "\n",
            "root\n",
            " |-- Unnamed: 0: string (nullable = true)\n",
            " |-- Body: string (nullable = true)\n",
            " |-- Label: string (nullable = true)\n",
            "\n"
          ]
        }
      ]
    },
    {
      "cell_type": "code",
      "source": [
        "#remove some endline and indent character from \"Body\" and convert \"Label\" to integer\n",
        "df3 = df3.withColumn('text', regexp_replace(df3['Body'], '[\\n\\t]', ''))\\\n",
        "         .withColumn('spam', when(df3['Label'] == '0',0) \\\n",
        "                             .otherwise(when(df3['Label'] == '1',1))) \\\n",
        "         .drop('Unnamed: 0','Body','Label')\n",
        "\n",
        "#print schema of df3\n",
        "df3.printSchema()"
      ],
      "metadata": {
        "colab": {
          "base_uri": "https://localhost:8080/"
        },
        "id": "2PJp6bxyzaES",
        "outputId": "8819e22a-f2c3-4473-d045-289348a8fa8c"
      },
      "execution_count": 18,
      "outputs": [
        {
          "output_type": "stream",
          "name": "stdout",
          "text": [
            "root\n",
            " |-- text: string (nullable = true)\n",
            " |-- spam: integer (nullable = true)\n",
            "\n"
          ]
        }
      ]
    },
    {
      "cell_type": "code",
      "source": [
        "#count null values from dataframe\n",
        "print(\"Null Count from Text: \", df3.filter(col(\"text\").isNull()).count())\n",
        "print(\"Null Count from Spam: \", df3.filter(col(\"spam\").isNull()).count())"
      ],
      "metadata": {
        "colab": {
          "base_uri": "https://localhost:8080/"
        },
        "id": "eC4hZtzNMmlV",
        "outputId": "16d57bec-8fb0-4e5b-910e-48e30962484b"
      },
      "execution_count": 19,
      "outputs": [
        {
          "output_type": "stream",
          "name": "stdout",
          "text": [
            "Null Count from Text:  0\n",
            "Null Count from Spam:  0\n"
          ]
        }
      ]
    },
    {
      "cell_type": "code",
      "source": [
        "#visualize df3 after all kind of preprocessing\n",
        "df3.show(5)"
      ],
      "metadata": {
        "colab": {
          "base_uri": "https://localhost:8080/"
        },
        "id": "X6pL9_pzMpzf",
        "outputId": "1c671f19-e73b-497c-f600-250b71008a89"
      },
      "execution_count": 20,
      "outputs": [
        {
          "output_type": "stream",
          "name": "stdout",
          "text": [
            "+--------------------+----+\n",
            "|                text|spam|\n",
            "+--------------------+----+\n",
            "|Save up to 70% on...|   1|\n",
            "|1) Fight The Risk...|   1|\n",
            "|1) Fight The Risk...|   1|\n",
            "|#################...|   1|\n",
            "|I thought you mig...|   1|\n",
            "+--------------------+----+\n",
            "only showing top 5 rows\n",
            "\n"
          ]
        }
      ]
    },
    {
      "cell_type": "markdown",
      "source": [
        "#### Dataset 4\n"
      ],
      "metadata": {
        "id": "FIjJc3YQqwYt"
      }
    },
    {
      "cell_type": "code",
      "source": [
        "#visualize df4\n",
        "df4.show(5)\n",
        "\n",
        "#print schema of df4\n",
        "df4.printSchema()"
      ],
      "metadata": {
        "colab": {
          "base_uri": "https://localhost:8080/"
        },
        "id": "mAYLH0V0ogzN",
        "outputId": "753801e0-275c-4561-999f-d2b19bbe220a"
      },
      "execution_count": 21,
      "outputs": [
        {
          "output_type": "stream",
          "name": "stdout",
          "text": [
            "+--------------------+\n",
            "|                 _c0|\n",
            "+--------------------+\n",
            "|ham\\tGo until jur...|\n",
            "|ham\\tOk lar... Jo...|\n",
            "|spam\\tFree entry ...|\n",
            "|ham\\tU dun say so...|\n",
            "|ham\\tNah I don't ...|\n",
            "+--------------------+\n",
            "only showing top 5 rows\n",
            "\n",
            "root\n",
            " |-- _c0: string (nullable = true)\n",
            "\n"
          ]
        }
      ]
    },
    {
      "cell_type": "code",
      "source": [
        "#split column into 2 column, separated by \"\\t\"\n",
        "df4 = df4.withColumn('text', split(df4['_c0'], '\\t').getItem(1)) \\\n",
        "         .withColumn('class', split(df4['_c0'], '\\t').getItem(0)) \\\n",
        "         .drop('_c0')\n",
        "\n",
        "#visualize df4\n",
        "df4.show(5)"
      ],
      "metadata": {
        "colab": {
          "base_uri": "https://localhost:8080/"
        },
        "id": "WUU0ZO6-q8xO",
        "outputId": "da48443b-b4df-4d72-b699-f8cc7f4e3227"
      },
      "execution_count": 22,
      "outputs": [
        {
          "output_type": "stream",
          "name": "stdout",
          "text": [
            "+--------------------+-----+\n",
            "|                text|class|\n",
            "+--------------------+-----+\n",
            "|Go until jurong p...|  ham|\n",
            "|Ok lar... Joking ...|  ham|\n",
            "|Free entry in 2 a...| spam|\n",
            "|U dun say so earl...|  ham|\n",
            "|Nah I don't think...|  ham|\n",
            "+--------------------+-----+\n",
            "only showing top 5 rows\n",
            "\n"
          ]
        }
      ]
    },
    {
      "cell_type": "code",
      "source": [
        "#converting \"class\" into integer\n",
        "df4 = df4.withColumn('spam', when(df4['class'] == 'ham',0) \\\n",
        "                             .otherwise(when(df4['class'] == 'spam',1))) \\\n",
        "         .drop('class')\n",
        "\n",
        "#print schema of df4\n",
        "df3.printSchema()"
      ],
      "metadata": {
        "colab": {
          "base_uri": "https://localhost:8080/"
        },
        "id": "BIXihRLns-bm",
        "outputId": "c2a26675-f663-4e6d-b138-5b8438789a81"
      },
      "execution_count": 23,
      "outputs": [
        {
          "output_type": "stream",
          "name": "stdout",
          "text": [
            "root\n",
            " |-- text: string (nullable = true)\n",
            " |-- spam: integer (nullable = true)\n",
            "\n"
          ]
        }
      ]
    },
    {
      "cell_type": "code",
      "source": [
        "#count null values from dataframe\n",
        "print(\"Null Count from Text: \", df4.filter(col(\"text\").isNull()).count())\n",
        "print(\"Null Count from Spam: \", df4.filter(col(\"spam\").isNull()).count())"
      ],
      "metadata": {
        "colab": {
          "base_uri": "https://localhost:8080/"
        },
        "id": "427Tq4KzuYui",
        "outputId": "4bfd96fa-3ab2-44de-a2bd-7bc8e4f84773"
      },
      "execution_count": 24,
      "outputs": [
        {
          "output_type": "stream",
          "name": "stdout",
          "text": [
            "Null Count from Text:  0\n",
            "Null Count from Spam:  143\n"
          ]
        }
      ]
    },
    {
      "cell_type": "code",
      "source": [
        "#drop the row that contain null value\n",
        "df4 = df4.na.drop()\n",
        "\n",
        "#count null values from dataframe\n",
        "print(\"Null Count from Text: \", df4.filter(col(\"text\").isNull()).count())\n",
        "print(\"Null Count from Spam: \", df4.filter(col(\"spam\").isNull()).count())"
      ],
      "metadata": {
        "colab": {
          "base_uri": "https://localhost:8080/"
        },
        "id": "F9f5j0FyPMN2",
        "outputId": "033d77a7-029e-4495-d10a-e488555a9fc7"
      },
      "execution_count": 25,
      "outputs": [
        {
          "output_type": "stream",
          "name": "stdout",
          "text": [
            "Null Count from Text:  0\n",
            "Null Count from Spam:  0\n"
          ]
        }
      ]
    },
    {
      "cell_type": "code",
      "source": [
        "#visualize df4 after all kind of preprocessing\n",
        "df4.show(5)"
      ],
      "metadata": {
        "colab": {
          "base_uri": "https://localhost:8080/"
        },
        "id": "uMmSYkYPNL4v",
        "outputId": "7356d127-9338-4d10-a6dd-1d1bf885ee21"
      },
      "execution_count": 26,
      "outputs": [
        {
          "output_type": "stream",
          "name": "stdout",
          "text": [
            "+--------------------+----+\n",
            "|                text|spam|\n",
            "+--------------------+----+\n",
            "|Go until jurong p...|   0|\n",
            "|Ok lar... Joking ...|   0|\n",
            "|Free entry in 2 a...|   1|\n",
            "|U dun say so earl...|   0|\n",
            "|Nah I don't think...|   0|\n",
            "+--------------------+----+\n",
            "only showing top 5 rows\n",
            "\n"
          ]
        }
      ]
    },
    {
      "cell_type": "markdown",
      "source": [
        "####Combining 4 dataset"
      ],
      "metadata": {
        "id": "zO4NzvsyE3sI"
      }
    },
    {
      "cell_type": "code",
      "source": [
        "#appending all dataset into single dataset\n",
        "df = df1.union(df2)\\\n",
        "        .union(df3)\\\n",
        "        .union(df4)\n",
        "\n",
        "#print total rows\n",
        "print(f'Total Rows: {df.count()}')\n",
        "\n",
        "#visualise the dataset\n",
        "df.show(5)"
      ],
      "metadata": {
        "colab": {
          "base_uri": "https://localhost:8080/"
        },
        "id": "XkJB3e7xE7Xt",
        "outputId": "037241c2-8784-4334-9607-4eba9b4f8cf4"
      },
      "execution_count": 27,
      "outputs": [
        {
          "output_type": "stream",
          "name": "stdout",
          "text": [
            "Total Rows: 21525\n",
            "+--------------------+----+\n",
            "|                text|spam|\n",
            "+--------------------+----+\n",
            "|naturally irresis...|   1|\n",
            "|the stock trading...|   1|\n",
            "|unbelievable new ...|   1|\n",
            "|4 color printing ...|   1|\n",
            "|do not have money...|   1|\n",
            "+--------------------+----+\n",
            "only showing top 5 rows\n",
            "\n"
          ]
        }
      ]
    },
    {
      "cell_type": "code",
      "source": [
        "#create function to remove punctuation\n",
        "def removePunctuation(column):\n",
        "     return trim(lower(regexp_replace(column,'[^\\sa-zA-Z0-9]', ''))).alias('text')"
      ],
      "metadata": {
        "id": "c0g7jKQnHSvR"
      },
      "execution_count": 28,
      "outputs": []
    },
    {
      "cell_type": "code",
      "source": [
        "#removing punctuation from \"text\" column\n",
        "df = df.select(removePunctuation(\"text\"),\"spam\")"
      ],
      "metadata": {
        "id": "VyWxli-cIA1P"
      },
      "execution_count": 29,
      "outputs": []
    },
    {
      "cell_type": "code",
      "source": [
        "#visualize the dataset\n",
        "df.show()"
      ],
      "metadata": {
        "colab": {
          "base_uri": "https://localhost:8080/"
        },
        "id": "KVOmOo02JX6V",
        "outputId": "20aacddc-9110-4ae0-86fd-0a6c26bd67a7"
      },
      "execution_count": 30,
      "outputs": [
        {
          "output_type": "stream",
          "name": "stdout",
          "text": [
            "+--------------------+----+\n",
            "|                text|spam|\n",
            "+--------------------+----+\n",
            "|naturally irresis...|   1|\n",
            "|the stock trading...|   1|\n",
            "|unbelievable new ...|   1|\n",
            "|4 color printing ...|   1|\n",
            "|do not have money...|   1|\n",
            "|great nnews  hell...|   1|\n",
            "|save your money b...|   1|\n",
            "|undeliverable  ho...|   1|\n",
            "|save your money b...|   1|\n",
            "|las vegas high ri...|   1|\n",
            "|save your money b...|   1|\n",
            "|brighten those te...|   1|\n",
            "|fpa notice  ebay ...|   1|\n",
            "|search engine pos...|   1|\n",
            "|only our software...|   1|\n",
            "|localized softwar...|   1|\n",
            "|security alert  c...|   1|\n",
            "|21 st century web...|   1|\n",
            "|any med for your ...|   1|\n",
            "|wearable electron...|   1|\n",
            "+--------------------+----+\n",
            "only showing top 20 rows\n",
            "\n"
          ]
        }
      ]
    },
    {
      "cell_type": "code",
      "source": [
        "#add length into dataset based on \"text\" length\n",
        "data = df.withColumn('length',length(df['text']))\n",
        "\n",
        "#visualize the dataset\n",
        "data.show(5)"
      ],
      "metadata": {
        "colab": {
          "base_uri": "https://localhost:8080/"
        },
        "id": "KdwrmXYWF1wz",
        "outputId": "025b170f-aa9d-41d7-f559-cd9f01fa4718"
      },
      "execution_count": 31,
      "outputs": [
        {
          "output_type": "stream",
          "name": "stdout",
          "text": [
            "+--------------------+----+------+\n",
            "|                text|spam|length|\n",
            "+--------------------+----+------+\n",
            "|naturally irresis...|   1|  1285|\n",
            "|the stock trading...|   1|   588|\n",
            "|unbelievable new ...|   1|   432|\n",
            "|4 color printing ...|   1|   465|\n",
            "|do not have money...|   1|   213|\n",
            "+--------------------+----+------+\n",
            "only showing top 5 rows\n",
            "\n"
          ]
        }
      ]
    },
    {
      "cell_type": "code",
      "source": [
        "#observe spam class\n",
        "data.groupby('spam').mean().show()"
      ],
      "metadata": {
        "colab": {
          "base_uri": "https://localhost:8080/"
        },
        "id": "kajDOokoOyRj",
        "outputId": "68f6d368-dddf-40d5-f3c5-62e6d0ca0151"
      },
      "execution_count": 32,
      "outputs": [
        {
          "output_type": "stream",
          "name": "stdout",
          "text": [
            "+----+---------+-----------------+\n",
            "|spam|avg(spam)|      avg(length)|\n",
            "+----+---------+-----------------+\n",
            "|   1|      1.0|1155.201204592509|\n",
            "|   0|      0.0|998.4447939797681|\n",
            "+----+---------+-----------------+\n",
            "\n"
          ]
        }
      ]
    },
    {
      "cell_type": "markdown",
      "source": [
        "##4. Feature Transformations"
      ],
      "metadata": {
        "id": "2z_Vj3KzNqUs"
      }
    },
    {
      "cell_type": "code",
      "source": [
        "#tokenizing word from \"text\" column\n",
        "tokenizer = Tokenizer(inputCol=\"text\", outputCol=\"token_text\")\n",
        "\n",
        "#removing stopword\n",
        "stopremove = StopWordsRemover(inputCol='token_text',outputCol='stop_tokens')\n",
        "\n",
        "#implement TF-IDF\n",
        "count_vec = CountVectorizer(inputCol='stop_tokens',outputCol='c_vec')\n",
        "idf = IDF(inputCol=\"c_vec\", outputCol=\"tf_idf\")\n",
        "ham_spam_to_num = StringIndexer(inputCol='spam',outputCol='label')\n",
        "clean_up = VectorAssembler(inputCols=['tf_idf','length'],outputCol='features')"
      ],
      "metadata": {
        "id": "plstJPNgODaF"
      },
      "execution_count": 33,
      "outputs": []
    },
    {
      "cell_type": "markdown",
      "source": [
        "##5. Creating Model and Pipeline"
      ],
      "metadata": {
        "id": "O9DeXhoiPl8C"
      }
    },
    {
      "cell_type": "code",
      "source": [
        "#Create Naive Bayes Classification Models\n",
        "nb = NaiveBayes()"
      ],
      "metadata": {
        "id": "qdSNBGELPpI_"
      },
      "execution_count": 34,
      "outputs": []
    },
    {
      "cell_type": "code",
      "source": [
        "#creating pipeline params\n",
        "data_prep_pipe = Pipeline(stages=[ham_spam_to_num,tokenizer,stopremove,count_vec,idf,clean_up])\n",
        "\n",
        "#fitting data into pipeline\n",
        "cleaner = data_prep_pipe.fit(data)\n",
        "\n",
        "#transform and clean data\n",
        "clean_data = cleaner.transform(data)"
      ],
      "metadata": {
        "id": "XOs4c0ASPtpP"
      },
      "execution_count": 35,
      "outputs": []
    },
    {
      "cell_type": "markdown",
      "source": [
        "##6. Training and Testing"
      ],
      "metadata": {
        "id": "hsiOhiwRQ6H7"
      }
    },
    {
      "cell_type": "code",
      "source": [
        "#selecting label and features from data transformation\n",
        "clean_data = clean_data.select(['label','features'])\n",
        "clean_data.show()"
      ],
      "metadata": {
        "colab": {
          "base_uri": "https://localhost:8080/"
        },
        "id": "k82f2fh4Q9oj",
        "outputId": "ab23cb12-d35f-4dc1-d103-5d95820d56f2"
      },
      "execution_count": 36,
      "outputs": [
        {
          "output_type": "stream",
          "name": "stdout",
          "text": [
            "+-----+--------------------+\n",
            "|label|            features|\n",
            "+-----+--------------------+\n",
            "|  1.0|(182122,[0,23,31,...|\n",
            "|  1.0|(182122,[0,15,22,...|\n",
            "|  1.0|(182122,[0,9,13,1...|\n",
            "|  1.0|(182122,[0,8,23,3...|\n",
            "|  1.0|(182122,[0,11,54,...|\n",
            "|  1.0|(182122,[0,10,40,...|\n",
            "|  1.0|(182122,[0,11,15,...|\n",
            "|  1.0|(182122,[0,8,16,2...|\n",
            "|  1.0|(182122,[0,11,15,...|\n",
            "|  1.0|(182122,[0,5,8,10...|\n",
            "|  1.0|(182122,[0,11,15,...|\n",
            "|  1.0|(182122,[0,6,11,1...|\n",
            "|  1.0|(182122,[0,5,9,19...|\n",
            "|  1.0|(182122,[0,5,6,8,...|\n",
            "|  1.0|(182122,[0,87,92,...|\n",
            "|  1.0|(182122,[0,15,18,...|\n",
            "|  1.0|(182122,[0,23,108...|\n",
            "|  1.0|(182122,[0,5,8,16...|\n",
            "|  1.0|(182122,[0,54,72,...|\n",
            "|  1.0|(182122,[0,8,25,3...|\n",
            "+-----+--------------------+\n",
            "only showing top 20 rows\n",
            "\n"
          ]
        }
      ]
    },
    {
      "cell_type": "code",
      "source": [
        "#spliting data training and data testing with 85:25 split\n",
        "(X,y) = clean_data.randomSplit([0.85,0.25])\n",
        "\n",
        "#train Naive bayes Classification with data training\n",
        "train = nb.fit(X)\n",
        "\n",
        "#try to predict\n",
        "pred = train.transform(y)\n",
        "pred.show()"
      ],
      "metadata": {
        "colab": {
          "base_uri": "https://localhost:8080/"
        },
        "id": "MW3xDooxRFRk",
        "outputId": "1dfd6328-9723-4153-eb5c-2525e7ed8fb4"
      },
      "execution_count": 37,
      "outputs": [
        {
          "output_type": "stream",
          "name": "stdout",
          "text": [
            "+-----+--------------------+--------------------+--------------------+----------+\n",
            "|label|            features|       rawPrediction|         probability|prediction|\n",
            "+-----+--------------------+--------------------+--------------------+----------+\n",
            "|  0.0|(182122,[0,1,2,3,...|[-15444.770356405...|           [1.0,0.0]|       0.0|\n",
            "|  0.0|(182122,[0,1,2,3,...|[-2602.9540763123...|[1.0,3.8300899826...|       0.0|\n",
            "|  0.0|(182122,[0,1,2,3,...|[-20304.790193378...|           [1.0,0.0]|       0.0|\n",
            "|  0.0|(182122,[0,1,2,3,...|[-13956.155346965...|           [1.0,0.0]|       0.0|\n",
            "|  0.0|(182122,[0,1,2,3,...|[-9386.8406608351...|           [1.0,0.0]|       0.0|\n",
            "|  0.0|(182122,[0,1,2,3,...|[-9396.7247629405...|           [1.0,0.0]|       0.0|\n",
            "|  0.0|(182122,[0,1,2,3,...|[-5118.7382284580...|           [1.0,0.0]|       0.0|\n",
            "|  0.0|(182122,[0,1,2,3,...|[-4224.8280978355...|           [1.0,0.0]|       0.0|\n",
            "|  0.0|(182122,[0,1,2,3,...|[-13714.583631795...|           [1.0,0.0]|       0.0|\n",
            "|  0.0|(182122,[0,1,2,3,...|[-11573.158012913...|           [1.0,0.0]|       0.0|\n",
            "|  0.0|(182122,[0,1,2,3,...|[-18664.822336512...|           [1.0,0.0]|       0.0|\n",
            "|  0.0|(182122,[0,1,2,3,...|[-5570.3483004714...|           [1.0,0.0]|       0.0|\n",
            "|  0.0|(182122,[0,1,2,3,...|[-10413.614225032...|           [1.0,0.0]|       0.0|\n",
            "|  0.0|(182122,[0,1,2,3,...|[-18593.945953456...|           [1.0,0.0]|       0.0|\n",
            "|  0.0|(182122,[0,1,2,3,...|[-9930.8953951234...|           [1.0,0.0]|       0.0|\n",
            "|  0.0|(182122,[0,1,2,3,...|[-4362.6852124025...|           [1.0,0.0]|       0.0|\n",
            "|  0.0|(182122,[0,1,2,3,...|[-4697.1435474215...|           [1.0,0.0]|       0.0|\n",
            "|  0.0|(182122,[0,1,2,3,...|[-9152.6505556499...|           [1.0,0.0]|       0.0|\n",
            "|  0.0|(182122,[0,1,2,3,...|[-10277.631848679...|           [1.0,0.0]|       0.0|\n",
            "|  0.0|(182122,[0,1,2,3,...|[-19307.770976952...|           [1.0,0.0]|       0.0|\n",
            "+-----+--------------------+--------------------+--------------------+----------+\n",
            "only showing top 20 rows\n",
            "\n"
          ]
        }
      ]
    },
    {
      "cell_type": "markdown",
      "source": [
        "##7. Model Evaluation"
      ],
      "metadata": {
        "id": "hqfD-5pER8JS"
      }
    },
    {
      "cell_type": "code",
      "source": [
        "#evaluate classification to show accuracy\n",
        "eval = MulticlassClassificationEvaluator()\n",
        "accuracy = eval.evaluate(pred)\n",
        "print(f'Accuracy of model at spam classification : {str(accuracy)}')"
      ],
      "metadata": {
        "colab": {
          "base_uri": "https://localhost:8080/"
        },
        "id": "W8t2ZzdOSCcr",
        "outputId": "bb414d21-480a-4998-9139-a544a4f43589"
      },
      "execution_count": 38,
      "outputs": [
        {
          "output_type": "stream",
          "name": "stdout",
          "text": [
            "Accuracy of model at spam classification : 0.9284203939957699\n"
          ]
        }
      ]
    },
    {
      "cell_type": "code",
      "source": [
        "#show confusion matrix\n",
        "y_pred=pred.select(\"prediction\").collect()\n",
        "y_orig=pred.select(\"label\").collect()\n",
        "cm = confusion_matrix(y_orig, y_pred)\n",
        "disp = ConfusionMatrixDisplay(confusion_matrix=cm)\n",
        "disp.plot()\n",
        "plt.show()"
      ],
      "metadata": {
        "colab": {
          "base_uri": "https://localhost:8080/",
          "height": 279
        },
        "id": "PYVRKBr2STrb",
        "outputId": "8ab4f361-e999-4edd-ea00-c4fd69698983"
      },
      "execution_count": 39,
      "outputs": [
        {
          "output_type": "display_data",
          "data": {
            "text/plain": [
              "<Figure size 432x288 with 2 Axes>"
            ],
            "image/png": "[encoded data removed]"
          },
          "metadata": {
            "needs_background": "light"
          }
        }
      ]
    },
    {
      "cell_type": "markdown",
      "source": [
        "##Analytics: \n",
        "Based on the Confusion Matrix, the classification produces:\n",
        "\n",
        "* True Negative : 3337\n",
        "* True Positive : 1166\n",
        "* False Positive : 347\n",
        "* False Negative : 15\n",
        "\n",
        "**So it can be said that the classification can actually make spam or ham predictions because there are very few false classification values**\n",
        "\n"
      ],
      "metadata": {
        "id": "p5uUuPRrT25N"
      }
    },
    {
      "cell_type": "markdown",
      "source": [
        "**A fairly high accuracy score (92.84%) indicates that the classification of the dataset using Naive Bayes has produced a good class prediction so that it can perform a good spam classification**"
      ],
      "metadata": {
        "id": "oH7hvPqnVzBQ"
      }
    }
  ]
}