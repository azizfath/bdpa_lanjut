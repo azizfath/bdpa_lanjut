{
  "nbformat": 4,
  "nbformat_minor": 0,
  "metadata": {
    "colab": {
      "provenance": [],
      "collapsed_sections": [],
      "mount_file_id": "1Abf_LKF8FAhTWcqJ8jT8YtTtFgwWS0oK",
      "authorship_tag": "ABX9TyPaasYF49CaqakvJKF4eIkL",
      "include_colab_link": true
    },
    "kernelspec": {
      "name": "python3",
      "display_name": "Python 3"
    },
    "language_info": {
      "name": "python"
    }
  },
  "cells": [
    {
      "cell_type": "markdown",
      "metadata": {
        "id": "view-in-github",
        "colab_type": "text"
      },
      "source": [
        "<a href=\"https://colab.research.google.com/github/azizfath/bdpa_lanjut/blob/master/UTS_3694.ipynb\" target=\"_parent\"><img src=\"https://colab.research.google.com/assets/colab-badge.svg\" alt=\"Open In Colab\"/></a>"
      ]
    },
    {
      "cell_type": "markdown",
      "source": [
        "#SOAL NO 1\n",
        "Setup PySpark pada Google Colab (5, SCPMK 1534002)"
      ],
      "metadata": {
        "id": "iqaDU0hk-PjP"
      }
    },
    {
      "cell_type": "code",
      "source": [
        "#install JDK\n",
        "!apt-get install openjdk-8-jdk-headless -qq > /dev/null\n",
        "\n",
        "#extract spark-hadoop from drive\n",
        "!tar xf \"/content/drive/MyDrive/spark-3.0.0-bin-hadoop3.2.gz\""
      ],
      "metadata": {
        "id": "mz4CPGMT2yeN"
      },
      "execution_count": null,
      "outputs": []
    },
    {
      "cell_type": "code",
      "source": [
        "#install findspark from pip\n",
        "!pip install -q findspark"
      ],
      "metadata": {
        "id": "6dO3ExAT2z_5"
      },
      "execution_count": null,
      "outputs": []
    },
    {
      "cell_type": "code",
      "source": [
        "#setup env for JDK and SPARK\n",
        "import os\n",
        "os.environ[\"JAVA_HOME\"] = \"/usr/lib/jvm/java-8-openjdk-amd64\"\n",
        "os.environ[\"SPARK_HOME\"] = \"/content/spark-3.0.0-bin-hadoop3.2\""
      ],
      "metadata": {
        "id": "8ePPJMdq20kB"
      },
      "execution_count": null,
      "outputs": []
    },
    {
      "cell_type": "code",
      "source": [
        "#install pyspark from pip\n",
        "!pip install -q pyspark"
      ],
      "metadata": {
        "id": "s2wRO7lF22Dx",
        "colab": {
          "base_uri": "https://localhost:8080/"
        },
        "outputId": "2214939e-0bfb-42f7-d234-7191f54ae0e3"
      },
      "execution_count": null,
      "outputs": [
        {
          "output_type": "stream",
          "name": "stdout",
          "text": [
            "\u001b[K     |████████████████████████████████| 281.4 MB 53 kB/s \n",
            "\u001b[K     |████████████████████████████████| 199 kB 71.2 MB/s \n",
            "\u001b[?25h  Building wheel for pyspark (setup.py) ... \u001b[?25l\u001b[?25hdone\n"
          ]
        }
      ]
    },
    {
      "cell_type": "code",
      "source": [
        "#importing SparkSession from pyspark.sql library\n",
        "from pyspark.sql import SparkSession\n",
        "\n",
        "#create new spark session with object\n",
        "spark = SparkSession.builder.getOrCreate()"
      ],
      "metadata": {
        "id": "oGMRnG3f3AMR"
      },
      "execution_count": null,
      "outputs": []
    },
    {
      "cell_type": "code",
      "source": [
        "#create sparkcontext variable.\n",
        "sc = spark.sparkContext"
      ],
      "metadata": {
        "id": "bJkAfB36J6BH"
      },
      "execution_count": null,
      "outputs": []
    },
    {
      "cell_type": "markdown",
      "source": [
        "#SOAL NO 2\n",
        "Baca data dari FullData.csv, kemudian pecah setidaknya menjadi 2 RDD (players, clubs) (10, SCPMK 1534104)\n",
        "\n"
      ],
      "metadata": {
        "id": "ksE5GRU_JjHH"
      }
    },
    {
      "cell_type": "code",
      "source": [
        "#Membaca Dataset FullData.csv\n",
        "FD = spark.read.csv(\"FullData.csv\", header=True, inferSchema=True)\n",
        "\n",
        "#Menampilkan 5 baris teratas pada Dataset\n",
        "FD.show(5)"
      ],
      "metadata": {
        "colab": {
          "base_uri": "https://localhost:8080/"
        },
        "id": "hHi6sUlPJjpW",
        "outputId": "02337376-6611-4f49-df7c-3f0e3fc3c461"
      },
      "execution_count": null,
      "outputs": [
        {
          "output_type": "stream",
          "name": "stdout",
          "text": [
            "+-----------------+-----------+-----------------+------------+------------+-------------+--------+------------+---------------+------+------+------+--------------+----------+---+------------------+---------------+---------+-----------+------------+---------+-------+--------------+---------------+----------+---------+------------------+-------------+------+---------+--------+----------+---------+------------+-----+-------+--------+-------+-------+-------+-------+----------+---------+----------+-----+-----------------+---------+-------+--------------+---------+----------+-----------+-----------+\n",
            "|             Name|Nationality|National_Position|National_Kit|        Club|Club_Position|Club_Kit|Club_Joining|Contract_Expiry|Rating|Height|Weight|Preffered_Foot|Birth_Date|Age|Preffered_Position|      Work_Rate|Weak_foot|Skill_Moves|Ball_Control|Dribbling|Marking|Sliding_Tackle|Standing_Tackle|Aggression|Reactions|Attacking_Position|Interceptions|Vision|Composure|Crossing|Short_Pass|Long_Pass|Acceleration|Speed|Stamina|Strength|Balance|Agility|Jumping|Heading|Shot_Power|Finishing|Long_Shots|Curve|Freekick_Accuracy|Penalties|Volleys|GK_Positioning|GK_Diving|GK_Kicking|GK_Handling|GK_Reflexes|\n",
            "+-----------------+-----------+-----------------+------------+------------+-------------+--------+------------+---------------+------+------+------+--------------+----------+---+------------------+---------------+---------+-----------+------------+---------+-------+--------------+---------------+----------+---------+------------------+-------------+------+---------+--------+----------+---------+------------+-----+-------+--------+-------+-------+-------+-------+----------+---------+----------+-----+-----------------+---------+-------+--------------+---------+----------+-----------+-----------+\n",
            "|Cristiano Ronaldo|   Portugal|               LS|         7.0| Real Madrid|           LW|     7.0|  07/01/2009|         2021.0|    94|185 cm| 80 kg|         Right|02/05/1985| 32|             LW/ST|     High / Low|        4|          5|          93|       92|     22|            23|             31|        63|       96|                94|           29|    85|       86|      84|        83|       77|          91|   92|     92|      80|     63|     90|     95|     85|        92|       93|        90|   81|               76|       85|     88|            14|        7|        15|         11|         11|\n",
            "|     Lionel Messi|  Argentina|               RW|        10.0|FC Barcelona|           RW|    10.0|  07/01/2004|         2018.0|    93|170 cm| 72 kg|          Left|06/24/1987| 29|                RW|Medium / Medium|        4|          4|          95|       97|     13|            26|             28|        48|       95|                93|           22|    90|       94|      77|        88|       87|          92|   87|     74|      59|     95|     90|     68|     71|        85|       95|        88|   89|               90|       74|     85|            14|        6|        15|         11|          8|\n",
            "|           Neymar|     Brazil|               LW|        10.0|FC Barcelona|           LW|    11.0|  07/01/2013|         2021.0|    92|174 cm| 68 kg|         Right|02/05/1992| 25|                LW|  High / Medium|        5|          5|          95|       96|     21|            33|             24|        56|       88|                90|           36|    80|       80|      75|        81|       75|          93|   90|     79|      49|     82|     96|     61|     62|        78|       89|        77|   79|               84|       81|     83|            15|        9|        15|          9|         11|\n",
            "|      Luis Suárez|    Uruguay|               LS|         9.0|FC Barcelona|           ST|     9.0|  07/11/2014|         2021.0|    92|182 cm| 85 kg|         Right|01/24/1987| 30|                ST|  High / Medium|        4|          4|          91|       86|     30|            38|             45|        78|       93|                92|           41|    84|       83|      77|        83|       64|          88|   77|     89|      76|     60|     86|     69|     77|        87|       94|        86|   86|               84|       85|     88|            33|       27|        31|         25|         37|\n",
            "|     Manuel Neuer|    Germany|               GK|         1.0|   FC Bayern|           GK|     1.0|  07/01/2011|         2021.0|    92|193 cm| 92 kg|         Right|03/27/1986| 31|                GK|Medium / Medium|        4|          1|          48|       30|     10|            11|             10|        29|       85|                12|           30|    70|       70|      15|        55|       59|          58|   61|     44|      83|     35|     52|     78|     25|        25|       13|        16|   14|               11|       47|     11|            91|       89|        95|         90|         89|\n",
            "+-----------------+-----------+-----------------+------------+------------+-------------+--------+------------+---------------+------+------+------+--------------+----------+---+------------------+---------------+---------+-----------+------------+---------+-------+--------------+---------------+----------+---------+------------------+-------------+------+---------+--------+----------+---------+------------+-----+-------+--------+-------+-------+-------+-------+----------+---------+----------+-----+-----------------+---------+-------+--------------+---------+----------+-----------+-----------+\n",
            "only showing top 5 rows\n",
            "\n"
          ]
        }
      ]
    },
    {
      "cell_type": "code",
      "source": [
        "#Menambahkan kolom id pada dataset\n",
        "\n",
        "#import library monotonically_increasing_id untuk membuat index secara auto increment\n",
        "from pyspark.sql.functions import monotonically_increasing_id \n",
        "\n",
        "#menambahkan kolom id dengan value auto increment pada dataset\n",
        "FD = FD.select(\"*\").withColumn(\"id\", monotonically_increasing_id())\n",
        "\n",
        "#melihat apakah kolom id sudah ditambahkan pada kolom terakhir\n",
        "FD.show(1)"
      ],
      "metadata": {
        "colab": {
          "base_uri": "https://localhost:8080/"
        },
        "id": "a_gBuG_nEJzM",
        "outputId": "47d9161f-6102-4c52-e6d0-d10d3e837163"
      },
      "execution_count": null,
      "outputs": [
        {
          "output_type": "stream",
          "name": "stdout",
          "text": [
            "+-----------------+-----------+-----------------+------------+-----------+-------------+--------+------------+---------------+------+------+------+--------------+----------+---+------------------+----------+---------+-----------+------------+---------+-------+--------------+---------------+----------+---------+------------------+-------------+------+---------+--------+----------+---------+------------+-----+-------+--------+-------+-------+-------+-------+----------+---------+----------+-----+-----------------+---------+-------+--------------+---------+----------+-----------+-----------+---+\n",
            "|             Name|Nationality|National_Position|National_Kit|       Club|Club_Position|Club_Kit|Club_Joining|Contract_Expiry|Rating|Height|Weight|Preffered_Foot|Birth_Date|Age|Preffered_Position| Work_Rate|Weak_foot|Skill_Moves|Ball_Control|Dribbling|Marking|Sliding_Tackle|Standing_Tackle|Aggression|Reactions|Attacking_Position|Interceptions|Vision|Composure|Crossing|Short_Pass|Long_Pass|Acceleration|Speed|Stamina|Strength|Balance|Agility|Jumping|Heading|Shot_Power|Finishing|Long_Shots|Curve|Freekick_Accuracy|Penalties|Volleys|GK_Positioning|GK_Diving|GK_Kicking|GK_Handling|GK_Reflexes| id|\n",
            "+-----------------+-----------+-----------------+------------+-----------+-------------+--------+------------+---------------+------+------+------+--------------+----------+---+------------------+----------+---------+-----------+------------+---------+-------+--------------+---------------+----------+---------+------------------+-------------+------+---------+--------+----------+---------+------------+-----+-------+--------+-------+-------+-------+-------+----------+---------+----------+-----+-----------------+---------+-------+--------------+---------+----------+-----------+-----------+---+\n",
            "|Cristiano Ronaldo|   Portugal|               LS|         7.0|Real Madrid|           LW|     7.0|  07/01/2009|         2021.0|    94|185 cm| 80 kg|         Right|02/05/1985| 32|             LW/ST|High / Low|        4|          5|          93|       92|     22|            23|             31|        63|       96|                94|           29|    85|       86|      84|        83|       77|          91|   92|     92|      80|     63|     90|     95|     85|        92|       93|        90|   81|               76|       85|     88|            14|        7|        15|         11|         11|  0|\n",
            "+-----------------+-----------+-----------------+------------+-----------+-------------+--------+------------+---------------+------+------+------+--------------+----------+---+------------------+----------+---------+-----------+------------+---------+-------+--------------+---------------+----------+---------+------------------+-------------+------+---------+--------+----------+---------+------------+-----+-------+--------+-------+-------+-------+-------+----------+---------+----------+-----+-----------------+---------+-------+--------------+---------+----------+-----------+-----------+---+\n",
            "only showing top 1 row\n",
            "\n"
          ]
        }
      ]
    },
    {
      "cell_type": "code",
      "source": [
        "#memecah dataset player dengan memanggil kolom yang sesuai\n",
        "players = FD['id','Name','Rating','Height','Weight','Preffered_Foot','Birth_Date','Age']\n",
        "\n",
        "#membuat RDD dari dataset player\n",
        "players_rdd = players.rdd\n",
        "\n",
        "#menampilan 5 data teratas dari players_rdd\n",
        "players_rdd.take(5)"
      ],
      "metadata": {
        "colab": {
          "base_uri": "https://localhost:8080/"
        },
        "id": "J4RwR_JKAWSc",
        "outputId": "acf4044f-5c9a-4e7e-d94f-3519eee0a47e"
      },
      "execution_count": null,
      "outputs": [
        {
          "output_type": "execute_result",
          "data": {
            "text/plain": [
              "[Row(id=0, Name='Cristiano Ronaldo', Rating=94, Height='185 cm', Weight='80 kg', Preffered_Foot='Right', Birth_Date='02/05/1985', Age=32),\n",
              " Row(id=1, Name='Lionel Messi', Rating=93, Height='170 cm', Weight='72 kg', Preffered_Foot='Left', Birth_Date='06/24/1987', Age=29),\n",
              " Row(id=2, Name='Neymar', Rating=92, Height='174 cm', Weight='68 kg', Preffered_Foot='Right', Birth_Date='02/05/1992', Age=25),\n",
              " Row(id=3, Name='Luis Suárez', Rating=92, Height='182 cm', Weight='85 kg', Preffered_Foot='Right', Birth_Date='01/24/1987', Age=30),\n",
              " Row(id=4, Name='Manuel Neuer', Rating=92, Height='193 cm', Weight='92 kg', Preffered_Foot='Right', Birth_Date='03/27/1986', Age=31)]"
            ]
          },
          "metadata": {},
          "execution_count": 5
        }
      ]
    },
    {
      "cell_type": "code",
      "source": [
        "#memecah dataset clubs dengan memanggil kolom yang sesuai\n",
        "clubs = FD['id','Club','Club_Position']\n",
        "\n",
        "#membuat RDD dari dataset clubs\n",
        "clubs_rdd = clubs.rdd\n",
        "\n",
        "#menampilkan 5 data teratas dari clubs_rdd\n",
        "clubs_rdd.take(5)"
      ],
      "metadata": {
        "colab": {
          "base_uri": "https://localhost:8080/"
        },
        "id": "FangQbaeCvwE",
        "outputId": "1c01abc4-7049-47fc-fcb9-5a6944935aea"
      },
      "execution_count": null,
      "outputs": [
        {
          "output_type": "execute_result",
          "data": {
            "text/plain": [
              "[Row(id=0, Club='Real Madrid', Club_Position='LW'),\n",
              " Row(id=1, Club='FC Barcelona', Club_Position='RW'),\n",
              " Row(id=2, Club='FC Barcelona', Club_Position='LW'),\n",
              " Row(id=3, Club='FC Barcelona', Club_Position='ST'),\n",
              " Row(id=4, Club='FC Bayern', Club_Position='GK')]"
            ]
          },
          "metadata": {},
          "execution_count": 6
        }
      ]
    },
    {
      "cell_type": "code",
      "source": [
        "#memecah dataset nations dengan memanggil kolom yang sesuai\n",
        "nations = FD['id','Nationality','National_Position']\n",
        "\n",
        "#membuat RDD dari dataset nations\n",
        "nations_rdd = nations.rdd\n",
        "\n",
        "#menampilkan 5 data teratas dari nations_rdd\n",
        "nations_rdd.take(5)"
      ],
      "metadata": {
        "colab": {
          "base_uri": "https://localhost:8080/"
        },
        "id": "NmqkRJPkFu4N",
        "outputId": "8c1f406a-d556-455d-898b-7e0201304346"
      },
      "execution_count": null,
      "outputs": [
        {
          "output_type": "execute_result",
          "data": {
            "text/plain": [
              "[Row(id=0, Nationality='Portugal', National_Position='LS'),\n",
              " Row(id=1, Nationality='Argentina', National_Position='RW'),\n",
              " Row(id=2, Nationality='Brazil', National_Position='LW'),\n",
              " Row(id=3, Nationality='Uruguay', National_Position='LS'),\n",
              " Row(id=4, Nationality='Germany', National_Position='GK')]"
            ]
          },
          "metadata": {},
          "execution_count": 7
        }
      ]
    },
    {
      "cell_type": "markdown",
      "source": [
        "#SOAL NO 3\n",
        "Ubah RDD di atas menjadi PySpark Dataframe (5, SCPMK 1532205)"
      ],
      "metadata": {
        "id": "_2Nr7y_jIMIx"
      }
    },
    {
      "cell_type": "code",
      "source": [
        "#mengubah RDD players ke PySpark DataFrame\n",
        "players_df = players_rdd.toDF()\n",
        "\n",
        "#menampilkan 5 baris teratas dari players_df\n",
        "players_df.show(5)"
      ],
      "metadata": {
        "colab": {
          "base_uri": "https://localhost:8080/"
        },
        "id": "pRgCCqByIRjO",
        "outputId": "29b7458b-c4fb-4b42-a9c7-9fcabf235518"
      },
      "execution_count": null,
      "outputs": [
        {
          "output_type": "stream",
          "name": "stdout",
          "text": [
            "+---+-----------------+------+------+------+--------------+----------+---+\n",
            "| id|             Name|Rating|Height|Weight|Preffered_Foot|Birth_Date|Age|\n",
            "+---+-----------------+------+------+------+--------------+----------+---+\n",
            "|  0|Cristiano Ronaldo|    94|185 cm| 80 kg|         Right|02/05/1985| 32|\n",
            "|  1|     Lionel Messi|    93|170 cm| 72 kg|          Left|06/24/1987| 29|\n",
            "|  2|           Neymar|    92|174 cm| 68 kg|         Right|02/05/1992| 25|\n",
            "|  3|      Luis Suárez|    92|182 cm| 85 kg|         Right|01/24/1987| 30|\n",
            "|  4|     Manuel Neuer|    92|193 cm| 92 kg|         Right|03/27/1986| 31|\n",
            "+---+-----------------+------+------+------+--------------+----------+---+\n",
            "only showing top 5 rows\n",
            "\n"
          ]
        }
      ]
    },
    {
      "cell_type": "code",
      "source": [
        "#mengubah RDD clubs ke PySpark DataFrame\n",
        "clubs_df = clubs_rdd.toDF()\n",
        "\n",
        "#menampilkan 5 baris teratas dari clubs_df\n",
        "clubs_df.show(5)"
      ],
      "metadata": {
        "colab": {
          "base_uri": "https://localhost:8080/"
        },
        "id": "msR0_187I4_l",
        "outputId": "379fd3ce-bc5d-42d4-85e1-b68ab5615e33"
      },
      "execution_count": null,
      "outputs": [
        {
          "output_type": "stream",
          "name": "stdout",
          "text": [
            "+---+------------+-------------+\n",
            "| id|        Club|Club_Position|\n",
            "+---+------------+-------------+\n",
            "|  0| Real Madrid|           LW|\n",
            "|  1|FC Barcelona|           RW|\n",
            "|  2|FC Barcelona|           LW|\n",
            "|  3|FC Barcelona|           ST|\n",
            "|  4|   FC Bayern|           GK|\n",
            "+---+------------+-------------+\n",
            "only showing top 5 rows\n",
            "\n"
          ]
        }
      ]
    },
    {
      "cell_type": "code",
      "source": [
        "#mengubah RDD nations ke PySpark DataFrame\n",
        "nations_df = nations_rdd.toDF()\n",
        "\n",
        "#menampilkan 5 baris teratas dari nations_df\n",
        "nations_df.show(5)"
      ],
      "metadata": {
        "colab": {
          "base_uri": "https://localhost:8080/"
        },
        "id": "CrLcMhzKI-7W",
        "outputId": "91b43302-0299-4a7a-f4ae-d06803b9c351"
      },
      "execution_count": null,
      "outputs": [
        {
          "output_type": "stream",
          "name": "stdout",
          "text": [
            "+---+-----------+-----------------+\n",
            "| id|Nationality|National_Position|\n",
            "+---+-----------+-----------------+\n",
            "|  0|   Portugal|               LS|\n",
            "|  1|  Argentina|               RW|\n",
            "|  2|     Brazil|               LW|\n",
            "|  3|    Uruguay|               LS|\n",
            "|  4|    Germany|               GK|\n",
            "+---+-----------+-----------------+\n",
            "only showing top 5 rows\n",
            "\n"
          ]
        }
      ]
    },
    {
      "cell_type": "markdown",
      "source": [
        "#SOAL NO 4\n",
        "Lakukan agregasi untuk mendapatkan jumlah pemain untuk masing-masing kelompok berikut: (25, SCPMK 1534104)\n",
        "*   Berdasarkan Nationality\n",
        "*   Berdasarkan Club"
      ],
      "metadata": {
        "id": "cphlQ37bJ_0S"
      }
    },
    {
      "cell_type": "code",
      "source": [
        "#membuat dataframe grouping berdasarkan kolom 'Nationality'\n",
        "#dari dataframe nations_df\n",
        "by_nations = nations_df.groupBy('Nationality')\n",
        "\n",
        "#menampilkan jumlah pemain dari hasil grouping 'Nationality'\n",
        "by_nations.count().show()"
      ],
      "metadata": {
        "colab": {
          "base_uri": "https://localhost:8080/"
        },
        "id": "CfSL9QduKKf7",
        "outputId": "23012281-4fa7-49fe-d343-1232e6ee82fe"
      },
      "execution_count": null,
      "outputs": [
        {
          "output_type": "stream",
          "name": "stdout",
          "text": [
            "+--------------+-----+\n",
            "|   Nationality|count|\n",
            "+--------------+-----+\n",
            "|          Chad|    1|\n",
            "|        Russia|  309|\n",
            "|      Paraguay|   75|\n",
            "|Chinese Taipei|    1|\n",
            "|       Senegal|  119|\n",
            "|        Sweden|  378|\n",
            "|        Guyana|    3|\n",
            "|       Eritrea|    1|\n",
            "|   Philippines|    2|\n",
            "|          Fiji|    1|\n",
            "|        Turkey|  292|\n",
            "|          Iraq|    8|\n",
            "|       Germany|  689|\n",
            "|St Kitts Nevis|    3|\n",
            "|       Comoros|    9|\n",
            "|   Afghanistan|    2|\n",
            "|   Ivory Coast|   90|\n",
            "|        France|  974|\n",
            "|        Greece|   86|\n",
            "|        Kosovo|   31|\n",
            "+--------------+-----+\n",
            "only showing top 20 rows\n",
            "\n"
          ]
        }
      ]
    },
    {
      "cell_type": "code",
      "source": [
        "#membuat dataframe grouping berdasarkan kolom 'Club'\n",
        "#dari dataframe clubs_df\n",
        "by_club = clubs_df.groupBy('Club')\n",
        "\n",
        "#menampilkan jumlah pemain dari hasil grouping 'Club'\n",
        "by_club.count().show()"
      ],
      "metadata": {
        "colab": {
          "base_uri": "https://localhost:8080/"
        },
        "id": "QdAC-O9bLls0",
        "outputId": "d89f32d1-ce9b-4f0e-da77-b4b3b7700e7b"
      },
      "execution_count": null,
      "outputs": [
        {
          "output_type": "stream",
          "name": "stdout",
          "text": [
            "+---------------+-----+\n",
            "|           Club|count|\n",
            "+---------------+-----+\n",
            "|        Palermo|   28|\n",
            "|Shonan Bellmare|   24|\n",
            "|    Yeovil Town|   24|\n",
            "|     Sagan Tosu|   25|\n",
            "|          Carpi|   26|\n",
            "| Kaiserslautern|   28|\n",
            "|   Sparta R'dam|   29|\n",
            "|       FC Basel|   27|\n",
            "|  Karlsruher SC|   28|\n",
            "|Cheltenham Town|   25|\n",
            "|             AZ|   29|\n",
            "|    SC Freiburg|   27|\n",
            "|  Al. Petrolera|   28|\n",
            "|    GFC Ajaccio|   26|\n",
            "|      FC Luzern|   24|\n",
            "|  SC Heerenveen|   28|\n",
            "|       Brighton|   30|\n",
            "|            AIK|   20|\n",
            "|         Santos|   20|\n",
            "|  Sp. Charleroi|   27|\n",
            "+---------------+-----+\n",
            "only showing top 20 rows\n",
            "\n"
          ]
        }
      ]
    },
    {
      "cell_type": "markdown",
      "source": [
        "#SOAL NO 5\n",
        "Lakukan agregasi untuk mendapatkan nilai: (25, SCPMK 1534104)\n",
        "*   Rata-rata Rating berdasarkan Club_Position\n",
        "*   Maximum Rating berdasarkan National_Position\n",
        "\n"
      ],
      "metadata": {
        "id": "IOXgNm70Mj42"
      }
    },
    {
      "cell_type": "code",
      "source": [
        "#menggabungkan dataframe players dengan club\n",
        "players_with_club = players_df.join(clubs_df, on='id')\n",
        "\n",
        "#melakukan grouping dari hasil joining berdasarkan kolom \"Club_Position\"\n",
        "by_club_position = players_with_club.groupBy('Club_Position')\n",
        "\n",
        "#melakukan dan menampilkan hasil aggregasi Rata-rata dari kolom rating\n",
        "by_club_position.avg('Rating').show()"
      ],
      "metadata": {
        "colab": {
          "base_uri": "https://localhost:8080/"
        },
        "id": "i_9QbkjaMwB3",
        "outputId": "856ebdda-5284-4626-f22a-d2fa60e33d1c"
      },
      "execution_count": null,
      "outputs": [
        {
          "output_type": "stream",
          "name": "stdout",
          "text": [
            "+-------------+-----------------+\n",
            "|Club_Position|      avg(Rating)|\n",
            "+-------------+-----------------+\n",
            "|           RF|             72.0|\n",
            "|          LWB|67.44444444444444|\n",
            "|          LCM|68.77966101694915|\n",
            "|           LM|68.81884057971014|\n",
            "|          RDM|69.81954887218045|\n",
            "|           LF|71.08333333333333|\n",
            "|         null|             81.0|\n",
            "|          CAM| 70.5904761904762|\n",
            "|          RAM|71.22222222222223|\n",
            "|           LB|68.10382513661202|\n",
            "|           LW|71.84210526315789|\n",
            "|          RCM|68.74787535410765|\n",
            "|           GK|69.82594936708861|\n",
            "|           RB|68.05656934306569|\n",
            "|          Sub|65.37172984516818|\n",
            "|           RS|68.63106796116504|\n",
            "|          LCB| 69.1648177496038|\n",
            "|           CM|69.16455696202532|\n",
            "|           RW|70.93984962406014|\n",
            "|          RCB|69.56714060031595|\n",
            "+-------------+-----------------+\n",
            "only showing top 20 rows\n",
            "\n"
          ]
        }
      ]
    },
    {
      "cell_type": "code",
      "source": [
        "#menggabungkan dataframe players dengan nations\n",
        "players_with_nation = players_df.join(nations_df,on='id')\n",
        "\n",
        "#melakukan grouping dari hasil joining berdasarkan kolom \"National_Position\"\n",
        "by_national_position = players_with_nation.groupBy('National_Position')\n",
        "\n",
        "#melakukan dan menampilkan hasil aggregasi Nilai Maksimal dari kolom rating\n",
        "by_national_position.max('Rating').show()"
      ],
      "metadata": {
        "colab": {
          "base_uri": "https://localhost:8080/"
        },
        "id": "Je0zX4mbNdkF",
        "outputId": "c8b93e15-f43f-4f2d-c698-52964f7dd40f"
      },
      "execution_count": null,
      "outputs": [
        {
          "output_type": "stream",
          "name": "stdout",
          "text": [
            "+-----------------+-----------+\n",
            "|National_Position|max(Rating)|\n",
            "+-----------------+-----------+\n",
            "|               RF|         85|\n",
            "|              LWB|         75|\n",
            "|              LCM|         88|\n",
            "|               LM|         87|\n",
            "|              RDM|         84|\n",
            "|               LF|         89|\n",
            "|             null|         90|\n",
            "|              CAM|         89|\n",
            "|              RAM|         83|\n",
            "|               LB|         86|\n",
            "|               LW|         92|\n",
            "|              RCM|         88|\n",
            "|               GK|         92|\n",
            "|               RB|         84|\n",
            "|              Sub|         89|\n",
            "|               RS|         90|\n",
            "|              LCB|         89|\n",
            "|               CM|         85|\n",
            "|               RW|         93|\n",
            "|              RCB|         89|\n",
            "+-----------------+-----------+\n",
            "only showing top 20 rows\n",
            "\n"
          ]
        }
      ]
    },
    {
      "cell_type": "markdown",
      "source": [
        "#SOAL NO 6\n",
        "Lakukan setidaknya 3 operasi transform RDD pada data yang kalian punya, contoh reduceByKey, sortByKey, flatMap, etc. (30, SCPMK 1532206)"
      ],
      "metadata": {
        "id": "IcjFP0OzP-MZ"
      }
    },
    {
      "cell_type": "markdown",
      "source": [
        "###RDD PLAYER"
      ],
      "metadata": {
        "id": "V4UFy9TOQN7d"
      }
    },
    {
      "cell_type": "code",
      "source": [
        "#membuat RDD dari dataframe baru dengan memanggil kolom birth_date dan age\n",
        "rdd1 = players['Birth_Date','Age'].rdd"
      ],
      "metadata": {
        "id": "HItXeWqGQQ9v"
      },
      "execution_count": null,
      "outputs": []
    },
    {
      "cell_type": "code",
      "source": [
        "#melakukan swap 'Age' menjadi keys dan 'Birth_Data menjadi values\n",
        "rdd1_swap = rdd1.map(lambda x:(x[1],x[0]))\n",
        "\n",
        "#menampilkan 10 baris teratas hasil swap\n",
        "for i in rdd1_swap.take(10):\n",
        "  print(f'{i[0]}, {i[1]}')"
      ],
      "metadata": {
        "colab": {
          "base_uri": "https://localhost:8080/"
        },
        "id": "yFQml32vUJ3I",
        "outputId": "e76220e7-2e08-4a64-ffb5-88dd070b505f"
      },
      "execution_count": null,
      "outputs": [
        {
          "output_type": "stream",
          "name": "stdout",
          "text": [
            "32, 02/05/1985\n",
            "29, 06/24/1987\n",
            "25, 02/05/1992\n",
            "30, 01/24/1987\n",
            "31, 03/27/1986\n",
            "26, 11/07/1990\n",
            "28, 08/21/1988\n",
            "27, 07/16/1989\n",
            "35, 10/03/1981\n",
            "24, 05/11/1992\n"
          ]
        }
      ]
    },
    {
      "cell_type": "code",
      "source": [
        "#menampilkan transformasi RDD\n",
        "#menampilkan jumlah pemain berdasar umur dengan countByKey\n",
        "\n",
        "for i,j in rdd1_swap.countByKey().items():\n",
        "  print(f'pemain dengan umur {i} berjumlah {j}')"
      ],
      "metadata": {
        "colab": {
          "base_uri": "https://localhost:8080/"
        },
        "id": "TqJ6mVh6UNaY",
        "outputId": "d36b4e96-f383-4177-8061-ad0c219adba7"
      },
      "execution_count": null,
      "outputs": [
        {
          "output_type": "stream",
          "name": "stdout",
          "text": [
            "pemain dengan umur 32 berjumlah 567\n",
            "pemain dengan umur 29 berjumlah 1104\n",
            "pemain dengan umur 25 berjumlah 1447\n",
            "pemain dengan umur 30 berjumlah 852\n",
            "pemain dengan umur 31 berjumlah 668\n",
            "pemain dengan umur 26 berjumlah 1195\n",
            "pemain dengan umur 28 berjumlah 1071\n",
            "pemain dengan umur 27 berjumlah 1134\n",
            "pemain dengan umur 35 berjumlah 236\n",
            "pemain dengan umur 24 berjumlah 1296\n",
            "pemain dengan umur 33 berjumlah 598\n",
            "pemain dengan umur 34 berjumlah 317\n",
            "pemain dengan umur 39 berjumlah 24\n",
            "pemain dengan umur 23 berjumlah 1356\n",
            "pemain dengan umur 22 berjumlah 1283\n",
            "pemain dengan umur 36 berjumlah 159\n",
            "pemain dengan umur 21 berjumlah 1196\n",
            "pemain dengan umur 20 berjumlah 1208\n",
            "pemain dengan umur 37 berjumlah 102\n",
            "pemain dengan umur 19 berjumlah 1004\n",
            "pemain dengan umur 38 berjumlah 50\n",
            "pemain dengan umur 40 berjumlah 16\n",
            "pemain dengan umur 18 berjumlah 533\n",
            "pemain dengan umur 44 berjumlah 3\n",
            "pemain dengan umur 42 berjumlah 2\n",
            "pemain dengan umur 17 berjumlah 157\n",
            "pemain dengan umur 43 berjumlah 3\n",
            "pemain dengan umur 41 berjumlah 6\n",
            "pemain dengan umur 47 berjumlah 1\n"
          ]
        }
      ]
    },
    {
      "cell_type": "code",
      "source": [
        "#membuat RDD dari dataframe baru dengan memanggil kolom Name dan Rating\n",
        "rdd2 = players['Name','Rating'].rdd\n",
        "\n",
        "#inisialiasi variabel rating yang akan digunakan\n",
        "rating = 89\n",
        "\n",
        "#melakukan tranformasi filter RDD\n",
        "#melakukan filter untuk pemain dengan rating lebih dari variabel yang ditentukan\n",
        "rdd2_filter = rdd2.filter(lambda x: x[1]>rating)\n",
        "\n",
        "print(f'Pemain dengan rating lebih dari {rating} :')\n",
        "\n",
        "#menampilkan nama pemain hasil filter\n",
        "for x in rdd2_filter.collect():\n",
        "  print(x[0])"
      ],
      "metadata": {
        "colab": {
          "base_uri": "https://localhost:8080/"
        },
        "id": "Wjl6Fo7Off2S",
        "outputId": "c4584c46-d2fa-4f08-ce5d-00d8d7d24b25"
      },
      "execution_count": null,
      "outputs": [
        {
          "output_type": "stream",
          "name": "stdout",
          "text": [
            "Pemain dengan rating lebih dari 89 :\n",
            "Cristiano Ronaldo\n",
            "Lionel Messi\n",
            "Neymar\n",
            "Luis Suárez\n",
            "Manuel Neuer\n",
            "De Gea\n",
            "Robert Lewandowski\n",
            "Gareth Bale\n",
            "Zlatan Ibrahimović\n"
          ]
        }
      ]
    },
    {
      "cell_type": "markdown",
      "source": [
        "###RDD CLUB"
      ],
      "metadata": {
        "id": "fYW2gxrhW0Fo"
      }
    },
    {
      "cell_type": "code",
      "source": [
        "#membuat RDD dari dataframe baru dengan memanggil kolom Club dan Club_Position\n",
        "rdd3 = clubs['Club','Club_Position'].rdd"
      ],
      "metadata": {
        "id": "T91AvegcW5bg"
      },
      "execution_count": null,
      "outputs": []
    },
    {
      "cell_type": "code",
      "source": [
        "#melakukan transform RDD\n",
        "#menghitung jumlah pemain dengan role tertentu pada sebuah club\n",
        "#kemudian di simpan ke dalam list agar bisa dilakukan iterasi\n",
        "\n",
        "rdd3_list=list(rdd3.countByValue().items())\n",
        "\n",
        "#menampilkan 100 data teratas dari hasil transform diatas\n",
        "for i in range(100):\n",
        "   print(f\"pemain dengan role '{rdd3_list[i][0][1]}' \\\n",
        "pada club '{rdd3_list[i][0][0]}' ada sejumlah {rdd3_list[i][1]}\")\n",
        "\n",
        "#rdd3_list[i][0][1] merujuk pada value ROLE\n",
        "#rdd3_list[i][0][0] merujuk pada value NAMA CLUB\n",
        "#rdd3_list[i][1] merujuk pada value JUMLAH PEMAIN hasil transform RDD"
      ],
      "metadata": {
        "colab": {
          "base_uri": "https://localhost:8080/"
        },
        "id": "HxvLyDQbXIYD",
        "outputId": "5e92904c-b351-47a4-8a64-35776d92b26a"
      },
      "execution_count": null,
      "outputs": [
        {
          "output_type": "stream",
          "name": "stdout",
          "text": [
            "pemain dengan role 'LW' pada club 'Real Madrid' ada sejumlah 1\n",
            "pemain dengan role 'RW' pada club 'FC Barcelona' ada sejumlah 1\n",
            "pemain dengan role 'LW' pada club 'FC Barcelona' ada sejumlah 1\n",
            "pemain dengan role 'ST' pada club 'FC Barcelona' ada sejumlah 1\n",
            "pemain dengan role 'GK' pada club 'FC Bayern' ada sejumlah 1\n",
            "pemain dengan role 'GK' pada club 'Manchester Utd' ada sejumlah 1\n",
            "pemain dengan role 'ST' pada club 'FC Bayern' ada sejumlah 1\n",
            "pemain dengan role 'RW' pada club 'Real Madrid' ada sejumlah 1\n",
            "pemain dengan role 'ST' pada club 'Manchester Utd' ada sejumlah 1\n",
            "pemain dengan role 'GK' pada club 'Chelsea' ada sejumlah 1\n",
            "pemain dengan role 'Sub' pada club 'FC Bayern' ada sejumlah 12\n",
            "pemain dengan role 'LW' pada club 'Chelsea' ada sejumlah 1\n",
            "pemain dengan role 'RCM' pada club 'Real Madrid' ada sejumlah 1\n",
            "pemain dengan role 'CAM' pada club 'Arsenal' ada sejumlah 1\n",
            "pemain dengan role 'ST' pada club 'Juventus' ada sejumlah 1\n",
            "pemain dengan role 'LCB' pada club 'PSG' ada sejumlah 1\n",
            "pemain dengan role 'LCB' pada club 'Real Madrid' ada sejumlah 1\n",
            "pemain dengan role 'ST' pada club 'Manchester City' ada sejumlah 1\n",
            "pemain dengan role 'LCM' pada club 'Manchester Utd' ada sejumlah 1\n",
            "pemain dengan role 'RS' pada club 'Atlético Madrid' ada sejumlah 1\n",
            "pemain dengan role 'RCM' pada club 'Manchester City' ada sejumlah 1\n",
            "pemain dengan role 'LW' pada club 'Bor. Dortmund' ada sejumlah 1\n",
            "pemain dengan role 'ST' pada club 'Arsenal' ada sejumlah 1\n",
            "pemain dengan role 'LCM' pada club 'Real Madrid' ada sejumlah 1\n",
            "pemain dengan role 'LCB' pada club 'Atlético Madrid' ada sejumlah 1\n",
            "pemain dengan role 'LCB' pada club 'FC Bayern' ada sejumlah 1\n",
            "pemain dengan role 'GK' pada club 'Spurs' ada sejumlah 1\n",
            "pemain dengan role 'LCB' pada club 'Juventus' ada sejumlah 1\n",
            "pemain dengan role 'RB' pada club 'FC Bayern' ada sejumlah 1\n",
            "pemain dengan role 'RCB' pada club 'Real Madrid' ada sejumlah 1\n",
            "pemain dengan role 'GK' pada club 'Arsenal' ada sejumlah 1\n",
            "pemain dengan role 'GK' pada club 'Juventus' ada sejumlah 1\n",
            "pemain dengan role 'LM' pada club 'FC Barcelona' ada sejumlah 1\n",
            "pemain dengan role 'GK' pada club 'Atlético Madrid' ada sejumlah 1\n",
            "pemain dengan role 'CAM' pada club 'Real Madrid' ada sejumlah 1\n",
            "pemain dengan role 'ST' pada club 'Bor. Dortmund' ada sejumlah 1\n",
            "pemain dengan role 'RCB' pada club 'Juventus' ada sejumlah 1\n",
            "pemain dengan role 'LDM' pada club 'FC Bayern' ada sejumlah 1\n",
            "pemain dengan role 'CAM' pada club 'FC Barcelona' ada sejumlah 1\n",
            "pemain dengan role 'LCM' pada club 'Manchester City' ada sejumlah 1\n",
            "pemain dengan role 'GK' pada club 'Inter' ada sejumlah 1\n",
            "pemain dengan role 'RCB' pada club 'FC Barcelona' ada sejumlah 1\n",
            "pemain dengan role 'RM' pada club 'FC Bayern' ada sejumlah 1\n",
            "pemain dengan role 'CAM' pada club 'Juventus' ada sejumlah 1\n",
            "pemain dengan role 'RCM' pada club 'PSG' ada sejumlah 1\n",
            "pemain dengan role 'LB' pada club 'FC Bayern' ada sejumlah 1\n",
            "pemain dengan role 'RW' pada club 'Manchester Utd' ada sejumlah 1\n",
            "pemain dengan role 'GK' pada club 'Bayer 04' ada sejumlah 1\n",
            "pemain dengan role 'CAM' pada club 'FC Bayern' ada sejumlah 1\n",
            "pemain dengan role 'CDM' pada club 'FC Barcelona' ada sejumlah 1\n",
            "pemain dengan role 'RDM' pada club 'FC Bayern' ada sejumlah 1\n",
            "pemain dengan role 'LCB' pada club 'FC Barcelona' ada sejumlah 1\n",
            "pemain dengan role 'LW' pada club 'Liverpool' ada sejumlah 1\n",
            "pemain dengan role 'RW' pada club 'PSG' ada sejumlah 1\n",
            "pemain dengan role 'ST' pada club 'Chelsea' ada sejumlah 1\n",
            "pemain dengan role 'ST' pada club 'PSG' ada sejumlah 1\n",
            "pemain dengan role 'LF' pada club 'Roma' ada sejumlah 1\n",
            "pemain dengan role 'LB' pada club 'Real Madrid' ada sejumlah 1\n",
            "pemain dengan role 'Sub' pada club 'Juventus' ada sejumlah 12\n",
            "pemain dengan role 'RCB' pada club 'Inter' ada sejumlah 1\n",
            "pemain dengan role 'ST' pada club 'Real Madrid' ada sejumlah 1\n",
            "pemain dengan role 'Sub' pada club 'Chelsea' ada sejumlah 12\n",
            "pemain dengan role 'Sub' pada club 'Arsenal' ada sejumlah 12\n",
            "pemain dengan role 'RS' pada club 'Spurs' ada sejumlah 1\n",
            "pemain dengan role 'ST' pada club 'Olym. Lyonnais' ada sejumlah 1\n",
            "pemain dengan role 'GK' pada club 'Real Madrid' ada sejumlah 1\n",
            "pemain dengan role 'ST' pada club 'Everton' ada sejumlah 1\n",
            "pemain dengan role 'CAM' pada club 'Spurs' ada sejumlah 1\n",
            "pemain dengan role 'Sub' pada club 'Manchester City' ada sejumlah 12\n",
            "pemain dengan role 'CB' pada club 'Spurs' ada sejumlah 1\n",
            "pemain dengan role 'RDM' pada club 'Juventus' ada sejumlah 1\n",
            "pemain dengan role 'Sub' pada club 'Manchester Utd' ada sejumlah 12\n",
            "pemain dengan role 'RCB' pada club 'FC Bayern' ada sejumlah 1\n",
            "pemain dengan role 'LW' pada club 'Olym. Marseille' ada sejumlah 1\n",
            "pemain dengan role 'ST' pada club 'Napoli' ada sejumlah 1\n",
            "pemain dengan role 'CB' pada club 'Bor. Dortmund' ada sejumlah 1\n",
            "pemain dengan role 'LCM' pada club 'Napoli' ada sejumlah 1\n",
            "pemain dengan role 'LCM' pada club 'PSG' ada sejumlah 1\n",
            "pemain dengan role 'GK' pada club 'AS Saint-Étienne' ada sejumlah 1\n",
            "pemain dengan role 'LCB' pada club 'Arsenal' ada sejumlah 1\n",
            "pemain dengan role 'LB' pada club 'Atlético Madrid' ada sejumlah 1\n",
            "pemain dengan role 'LCB' pada club 'Athletic Bilbao' ada sejumlah 1\n",
            "pemain dengan role 'LM' pada club 'Atlético Madrid' ada sejumlah 1\n",
            "pemain dengan role 'RB' pada club 'Real Madrid' ada sejumlah 1\n",
            "pemain dengan role 'RM' pada club 'Leicester City' ada sejumlah 1\n",
            "pemain dengan role 'Sub' pada club 'Real Madrid' ada sejumlah 12\n",
            "pemain dengan role 'ST' pada club 'Inter' ada sejumlah 1\n",
            "pemain dengan role 'LW' pada club 'Napoli' ada sejumlah 1\n",
            "pemain dengan role 'RM' pada club 'Atlético Madrid' ada sejumlah 1\n",
            "pemain dengan role 'RCB' pada club 'Roma' ada sejumlah 1\n",
            "pemain dengan role 'GK' pada club 'AS Monaco' ada sejumlah 1\n",
            "pemain dengan role 'LCB' pada club 'Manchester City' ada sejumlah 1\n",
            "pemain dengan role 'RCB' pada club 'Arsenal' ada sejumlah 1\n",
            "pemain dengan role 'LCM' pada club 'Chelsea' ada sejumlah 1\n",
            "pemain dengan role 'LB' pada club 'Juventus' ada sejumlah 1\n",
            "pemain dengan role 'RCB' pada club 'AS Monaco' ada sejumlah 1\n",
            "pemain dengan role 'LM' pada club 'FC Bayern' ada sejumlah 1\n",
            "pemain dengan role 'LCM' pada club 'Roma' ada sejumlah 1\n",
            "pemain dengan role 'Sub' pada club 'Atlético Madrid' ada sejumlah 12\n",
            "pemain dengan role 'LCM' pada club 'Villarreal CF' ada sejumlah 1\n"
          ]
        }
      ]
    }
  ]
}